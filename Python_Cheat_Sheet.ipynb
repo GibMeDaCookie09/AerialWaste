{
  "nbformat": 4,
  "nbformat_minor": 0,
  "metadata": {
    "colab": {
      "name": "Python Cheat-Sheet.ipynb",
      "provenance": [],
      "include_colab_link": true
    },
    "kernelspec": {
      "name": "python3",
      "display_name": "Python 3"
    }
  },
  "cells": [
    {
      "cell_type": "markdown",
      "metadata": {
        "id": "view-in-github",
        "colab_type": "text"
      },
      "source": [
        "<a href=\"https://colab.research.google.com/github/GibMeDaCookie09/AerialWaste/blob/main/Python_Cheat_Sheet.ipynb\" target=\"_parent\"><img src=\"https://colab.research.google.com/assets/colab-badge.svg\" alt=\"Open In Colab\"/></a>"
      ]
    },
    {
      "cell_type": "markdown",
      "metadata": {
        "id": "XdcZpTVhENOe"
      },
      "source": [
        "#Python Cheatsheet"
      ]
    },
    {
      "cell_type": "markdown",
      "metadata": {
        "id": "CZM0TBe-ESJj"
      },
      "source": [
        "##Importing Data"
      ]
    },
    {
      "cell_type": "code",
      "metadata": {
        "id": "AC7dGjwjEMwe"
      },
      "source": [
        "#Importing Data\n",
        "pd.read_csv(filename) # From a CSV file\n",
        "pd.read_table(filename) # From a delimited text file (like TSV)\n",
        "pd.read_excel(filename) # From an Excel file\n",
        "pd.read_sql(query, connection_object) # Reads from a SQL table/database\n",
        "pd.read_json(json_string) # Reads from a JSON formatted string, URL or file.\n",
        "pd.read_html(url) # Parses an html URL, string or file and extracts tables to a list of dataframes\n",
        "pd.read_clipboard() # Takes the contents of your clipboard and passes it to read_table()\n",
        "pd.DataFrame(dict) # From a dict, keys for columns names, values for data as lists"
      ],
      "execution_count": null,
      "outputs": []
    },
    {
      "cell_type": "markdown",
      "metadata": {
        "id": "HQfyl7HIEqBc"
      },
      "source": [
        "##Exploring Data"
      ]
    },
    {
      "cell_type": "code",
      "metadata": {
        "id": "rTUOi_GFEqg1"
      },
      "source": [
        "#Exploring Data\n",
        "df.shape() # Prints number of rows and columns in dataframe\n",
        "df.head(n) # Prints first n rows of the DataFrame\n",
        "df.tail(n) # Prints last n rows of the DataFrame\n",
        "df.info() # Index, Datatype and Memory information\n",
        "df.describe() # Summary statistics for numerical columns\n",
        "s.value_counts(dropna=False) # Views unique values and counts\n",
        "df.apply(pd.Series.value_counts) # Unique values and counts for all columns\n",
        "df.describe() # Summary statistics for numerical columns\n",
        "df.mean() # Returns the mean of all columns\n",
        "df.corr() # Returns the correlation between columns in a DataFrame\n",
        "df.count() # Returns the number of non-null values in each DataFrame column\n",
        "df.max() # Returns the highest value in each column\n",
        "df.min() # Returns the lowest value in each column\n",
        "df.median() # Returns the median of each column\n",
        "df.std() # Returns the standard deviation of each column"
      ],
      "execution_count": null,
      "outputs": []
    },
    {
      "cell_type": "markdown",
      "metadata": {
        "id": "FYluxI-vErEW"
      },
      "source": [
        "##Selecting Data"
      ]
    },
    {
      "cell_type": "code",
      "metadata": {
        "id": "3V2X_cNPErOV"
      },
      "source": [
        "#selecting Data\n",
        "df[col] # Returns column with label col as Series\n",
        "df[[col1, col2]] # Returns Columns as a new DataFrame\n",
        "s.iloc[0] # Selection by position (selects first element)\n",
        "s.loc[0] # Selection by index (selects element at index 0)\n",
        "df.iloc[0,:] # First row\n",
        "df.iloc[0,0] # First element of first column"
      ],
      "execution_count": null,
      "outputs": []
    },
    {
      "cell_type": "markdown",
      "metadata": {
        "id": "cUg0kRzuErY8"
      },
      "source": [
        "##Data Cleaning"
      ]
    },
    {
      "cell_type": "code",
      "metadata": {
        "id": "SH0XZjXGEris"
      },
      "source": [
        "#Data Cleaning\n",
        "df.columns = ['a','b','c'] # Renames columns\n",
        "pd.isnull() # Checks for null Values, Returns Boolean Array\n",
        "pd.notnull() # Opposite of s.isnull()\n",
        "df.dropna() # Drops all rows that contain null values\n",
        "df.dropna(axis=1) # Drops all columns that contain null values\n",
        "df.dropna(axis=1,thresh=n) # Drops all rows have have less than n non null values\n",
        "df.fillna(x) # Replaces all null values with x\n",
        "s.fillna(s.mean()) # Replaces all null values with the mean (mean can be replaced with almost any function from the statistics section)\n",
        "s.astype(float) # Converts the datatype of the series to float\n",
        "s.replace(1,'one') # Replaces all values equal to 1 with 'one'\n",
        "s.replace([1,3],['one','three']) # Replaces all 1 with 'one' and 3 with 'three'\n",
        "df.rename(columns=lambda x: x + 1) # Mass renaming of columns\n",
        "df.rename(columns={'old_name': 'new_ name'}) # Selective renaming\n",
        "df.set_index('column_one') # Changes the index\n",
        "df.rename(index=lambda x: x + 1) # Mass renaming of index"
      ],
      "execution_count": null,
      "outputs": []
    },
    {
      "cell_type": "markdown",
      "metadata": {
        "id": "Q-qdaOHLErsb"
      },
      "source": [
        "##Filter, Sort and Group By"
      ]
    },
    {
      "cell_type": "code",
      "metadata": {
        "id": "Ab60n7ylEr2Q"
      },
      "source": [
        "#Filter, Sort and Group By\n",
        "df[df[col] > 0.5] # Rows where the col column is greater than 0.5\n",
        "df[(df[col] > 0.5) & (df[col] < 0.7)] # Rows where 0.5 < col < 0.7\n",
        "df.sort_values(col1) # Sorts values by col1 in ascending order\n",
        "df.sort_values(col2,ascending=False) # Sorts values by col2 in descending order\n",
        "df.sort_values([col1,col2], ascending=[True,False]) # Sorts values by col1 in ascending order then col2 in descending order\n",
        "df.groupby(col) # Returns a groupby object for values from one column\n",
        "df.groupby([col1,col2]) # Returns a groupby object values from multiple columns\n",
        "df.groupby(col1)[col2].mean() # Returns the mean of the values in col2, grouped by the values in col1 (mean can be replaced with almost any function from the statistics section)\n",
        "df.pivot_table(index=col1, values= col2,col3], aggfunc=mean) # Creates a pivot table that groups by col1 and calculates the mean of col2 and col3\n",
        "df.groupby(col1).agg(np.mean) # Finds the average across all columns for every unique column 1 group\n",
        "df.apply(np.mean) # Applies a function across each column\n",
        "df.apply(np.max, axis=1) # Applies a function across each row"
      ],
      "execution_count": null,
      "outputs": []
    },
    {
      "cell_type": "markdown",
      "metadata": {
        "id": "BD-sey50EsAP"
      },
      "source": [
        "##Joining and Combining"
      ]
    },
    {
      "cell_type": "code",
      "metadata": {
        "id": "yCI8uclrEsLy"
      },
      "source": [
        "#Joining and Combining\n",
        "df1.append(df2) # Adds the rows in df1 to the end of df2 (columns should be identical)\n",
        "pd.concat([df1, df2],axis=1) # Adds the columns in df1 to the end of df2 (rows should be identical)\n",
        "df1.join(df2,on=col1,how='inner') # SQL-style joins the columns in df1 with the columns on df2 where the rows for col have identical values. how can be one of 'left', 'right', 'outer', 'inner'<strong> </strong>"
      ],
      "execution_count": null,
      "outputs": []
    },
    {
      "cell_type": "markdown",
      "metadata": {
        "id": "2EU2LRq7EsXg"
      },
      "source": [
        "##Writing Data"
      ]
    },
    {
      "cell_type": "code",
      "metadata": {
        "id": "9KvauAAbEsht"
      },
      "source": [
        "#Writing Data\n",
        "df.to_csv(filename) # Writes to a CSV file\n",
        "df.to_excel(filename) # Writes to an Excel file\n",
        "df.to_sql(table_name, connection_object) # Writes to a SQL table\n",
        "df.to_json(filename) # Writes to a file in JSON format\n",
        "df.to_html(filename) # Saves as an HTML table\n",
        "df.to_clipboard() # Writes to the clipboard"
      ],
      "execution_count": null,
      "outputs": []
    },
    {
      "cell_type": "markdown",
      "metadata": {
        "id": "AY1TYM6-FhCU"
      },
      "source": [
        "##Machine Learning"
      ]
    },
    {
      "cell_type": "code",
      "metadata": {
        "id": "hxfIh2RTFhL2"
      },
      "source": [
        "# Import libraries and modules\n",
        "import numpy as np\n",
        "import pandas as pd\n",
        "\n",
        "from sklearn.model_selection import train_test_split\n",
        "from sklearn import preprocessing\n",
        "from sklearn.ensemble import RandomForestRegressor\n",
        "from sklearn.pipeline import make_pipeline\n",
        "from sklearn.model_selection import GridSearchCV\n",
        "from sklearn.metrics import mean_squared_error, r2_score\n",
        "from sklearn.externals import joblib\n",
        "\n",
        "# Load red wine data.\n",
        "dataset_url = 'http://mlr.cs.umass.edu/ml/machine-learning-databases/wine-quality/winequality-red.csv'\n",
        "data = pd.read_csv(dataset_url, sep=';')\n",
        "\n",
        "# Split data into training and test sets\n",
        "y = data.quality\n",
        "X = data.drop('quality', axis=1)\n",
        "X_train, X_test, y_train, y_test = train_test_split(X, y,\n",
        "                                                    test_size=0.2,\n",
        "                                                    random_state=123,\n",
        "                                                    stratify=y)\n",
        "\n",
        "# Declare data preprocessing steps\n",
        "pipeline = make_pipeline(preprocessing.StandardScaler(),\n",
        "                         RandomForestRegressor(n_estimators=100))\n",
        "\n",
        "# Declare hyperparameters to tune\n",
        "hyperparameters = { 'randomforestregressor__max_features' : ['auto', 'sqrt', 'log2'],\n",
        "                  'randomforestregressor__max_depth': [None, 5, 3, 1]}\n",
        "\n",
        "# Tune model using cross-validation pipeline\n",
        "clf = GridSearchCV(pipeline, hyperparameters, cv=10)\n",
        "\n",
        "clf.fit(X_train, y_train)\n",
        "\n",
        "# Refit on the entire training set\n",
        "# No additional code needed if clf.refit == True (default is True)\n",
        "\n",
        "# Evaluate model pipeline on test data\n",
        "pred = clf.predict(X_test)\n",
        "print r2_score(y_test, pred)\n",
        "print mean_squared_error(y_test, pred)\n",
        "\n",
        "# Save model for future use\n",
        "joblib.dump(clf, 'rf_regressor.pkl')\n",
        "# To load: clf2 = joblib.load('rf_regressor.pkl')"
      ],
      "execution_count": null,
      "outputs": []
    },
    {
      "cell_type": "markdown",
      "metadata": {
        "id": "At9EE41kFhU6"
      },
      "source": []
    },
    {
      "cell_type": "code",
      "metadata": {
        "id": "Hglj8O53Fhed",
        "colab": {
          "base_uri": "https://localhost:8080/",
          "height": 265
        },
        "outputId": "2e97f139-ea5b-480c-9ab4-282c3196c8df"
      },
      "source": [
        "import pygame\n",
        "import json\n",
        "\n",
        "# Initialize Pygame\n",
        "pygame.init()\n",
        "\n",
        "with open(\"catching.json\", \"r\") as file:\n",
        "    data = json.load(file)\n",
        "\n",
        "print(data)\n",
        "\n",
        "if isinstance(data, list):\n",
        "    print(\"First element in the list:\", data[0])\n",
        "\n",
        "values = [item['ball_pos']['x'] for item in data if 'ball_pos' in item]\n",
        "\n",
        "screen_width = 800\n",
        "screen_height = 600\n",
        "screen = pygame.display.set_mode((screen_width, screen_height))\n",
        "pygame.display.set_caption(\"Data Visualization\")\n",
        "\n",
        "WHITE = (255, 255, 255)\n",
        "BLACK = (0, 0, 0)\n",
        "LINE_COLOR = (0, 128, 255)\n",
        "\n",
        "margin = 50\n",
        "max_value = max(values)\n",
        "min_value = min(values)\n",
        "\n",
        "normalized_values = [\n",
        "    int((value - min_value) / (max_value - min_value) * (screen_height - 2 * margin))\n",
        "    for value in values\n",
        "]\n",
        "\n",
        "step = (screen_width - 2 * margin) // len(values)\n",
        "\n",
        "running = True\n",
        "while running:\n",
        "    screen.fill(WHITE)\n",
        "\n",
        "    pygame.draw.line(screen, BLACK, (margin, margin), (margin, screen_height - margin), 2)  # Y-axis\n",
        "    pygame.draw.line(screen, BLACK, (margin, screen_height - margin), (screen_width - margin, screen_height - margin), 2)  # X-axis\n",
        "\n",
        "    for i in range(1, len(values)):\n",
        "        pygame.draw.line(\n",
        "            screen,\n",
        "            LINE_COLOR,\n",
        "            (margin + (i - 1) * step, screen_height - margin - normalized_values[i - 1]),\n",
        "            (margin + i * step, screen_height - margin - normalized_values[i]),\n",
        "            2\n",
        "        )\n",
        "\n",
        "    for event in pygame.event.get():\n",
        "        if event.type == pygame.QUIT:\n",
        "            running = False\n",
        "\n",
        "    pygame.display.flip()\n",
        "\n",
        "pygame.quit()\n"
      ],
      "execution_count": 5,
      "outputs": [
        {
          "output_type": "stream",
          "name": "stdout",
          "text": [
            "[{'time': 0, 'ball_pos': {'x': 1.0050151348114014, 'y': 4.808112621307373, 'z': 1.3803216218948364}, 'r1_roller_rpm': 0.0, 'r1_shooting_altitude': 0.5945397722244263}, {'time': 1, 'ball_pos': {'x': 1.0050151348114014, 'y': 4.808112621307373, 'z': 1.3803216218948364}, 'r1_roller_rpm': 0.0, 'r1_shooting_altitude': 0.5945397722244263}, {'time': 2, 'ball_pos': {'x': 1.0050151348114014, 'y': 4.808112621307373, 'z': 1.3788247108459473}, 'r1_roller_rpm': 0.0, 'r1_shooting_altitude': 0.5945397722244263}, {'time': 3, 'ball_pos': {'x': 1.0050151348114014, 'y': 4.808112621307373, 'z': 1.3746074438095093}, 'r1_roller_rpm': 0.0, 'r1_shooting_altitude': 0.5945397722244263}, {'time': 4, 'ball_pos': {'x': 1.0050151348114014, 'y': 4.808112621307373, 'z': 1.3676716089248657}, 'r1_roller_rpm': 0.0, 'r1_shooting_altitude': 0.5945397722244263}, {'time': 5, 'ball_pos': {'x': 1.0050151348114014, 'y': 4.808112621307373, 'z': 1.3580191135406494}, 'r1_roller_rpm': 0.0, 'r1_shooting_altitude': 0.5945397722244263}, {'time': 6, 'ball_pos': {'x': 1.0050151348114014, 'y': 4.808112621307373, 'z': 1.3456518650054932}, 'r1_roller_rpm': 0.0, 'r1_shooting_altitude': 0.5945397722244263}, {'time': 7, 'ball_pos': {'x': 1.0079529285430908, 'y': 4.806434154510498, 'z': 1.336323857307434}, 'r1_roller_rpm': 0.0, 'r1_shooting_altitude': 0.5945397722244263}, {'time': 8, 'ball_pos': {'x': 1.0134215354919434, 'y': 4.801441192626953, 'z': 1.3325227499008179}, 'r1_roller_rpm': 0.0, 'r1_shooting_altitude': 0.5945397722244263}, {'time': 9, 'ball_pos': {'x': 1.018640160560608, 'y': 4.7952141761779785, 'z': 1.3280913829803467}, 'r1_roller_rpm': 0.0, 'r1_shooting_altitude': 0.5945397722244263}, {'time': 10, 'ball_pos': {'x': 1.023648738861084, 'y': 4.787939548492432, 'z': 1.3227343559265137}, 'r1_roller_rpm': 0.0, 'r1_shooting_altitude': 0.5945397722244263}, {'time': 11, 'ball_pos': {'x': 1.0284475088119507, 'y': 4.779619216918945, 'z': 1.3164526224136353}, 'r1_roller_rpm': 0.0, 'r1_shooting_altitude': 0.5945397722244263}, {'time': 12, 'ball_pos': {'x': 1.033036470413208, 'y': 4.770253658294678, 'z': 1.3092470169067383}, 'r1_roller_rpm': 0.0, 'r1_shooting_altitude': 0.5945397722244263}, {'time': 13, 'ball_pos': {'x': 1.0374159812927246, 'y': 4.759843349456787, 'z': 1.30111825466156}, 'r1_roller_rpm': 0.0, 'r1_shooting_altitude': 0.5945397722244263}, {'time': 14, 'ball_pos': {'x': 1.04158616065979, 'y': 4.748390197753906, 'z': 1.2920671701431274}, 'r1_roller_rpm': 0.0, 'r1_shooting_altitude': 0.5945397722244263}, {'time': 15, 'ball_pos': {'x': 1.0419094562530518, 'y': 4.746345520019531, 'z': 1.2926422357559204}, 'r1_roller_rpm': 0.0, 'r1_shooting_altitude': 0.5945397722244263}, {'time': 16, 'ball_pos': {'x': 1.041532278060913, 'y': 4.74615478515625, 'z': 1.2927062511444092}, 'r1_roller_rpm': 0.0, 'r1_shooting_altitude': 0.5945397722244263}, {'time': 17, 'ball_pos': {'x': 1.040781855583191, 'y': 4.746950626373291, 'z': 1.2912640571594238}, 'r1_roller_rpm': 0.0, 'r1_shooting_altitude': 0.5945397722244263}, {'time': 18, 'ball_pos': {'x': 1.0395128726959229, 'y': 4.747007369995117, 'z': 1.2905465364456177}, 'r1_roller_rpm': 0.0, 'r1_shooting_altitude': 0.5945397722244263}, {'time': 19, 'ball_pos': {'x': 1.0377552509307861, 'y': 4.746734142303467, 'z': 1.2900224924087524}, 'r1_roller_rpm': 0.0, 'r1_shooting_altitude': 0.5945397722244263}, {'time': 20, 'ball_pos': {'x': 1.0360078811645508, 'y': 4.746191501617432, 'z': 1.2898635864257812}, 'r1_roller_rpm': 0.0, 'r1_shooting_altitude': 0.5945397722244263}, {'time': 21, 'ball_pos': {'x': 1.0351234674453735, 'y': 4.745568752288818, 'z': 1.290247917175293}, 'r1_roller_rpm': 0.0, 'r1_shooting_altitude': 0.5945397722244263}, {'time': 22, 'ball_pos': {'x': 1.03470778465271, 'y': 4.745275974273682, 'z': 1.2904284000396729}, 'r1_roller_rpm': 0.0, 'r1_shooting_altitude': 0.5945397722244263}, {'time': 23, 'ball_pos': {'x': 1.0347604751586914, 'y': 4.7453131675720215, 'z': 1.2904056310653687}, 'r1_roller_rpm': 0.0, 'r1_shooting_altitude': 0.5945397722244263}, {'time': 24, 'ball_pos': {'x': 1.0352809429168701, 'y': 4.74567985534668, 'z': 1.2901794910430908}, 'r1_roller_rpm': 0.0, 'r1_shooting_altitude': 0.5945397722244263}, {'time': 25, 'ball_pos': {'x': 1.0362688302993774, 'y': 4.74637508392334, 'z': 1.2897502183914185}, 'r1_roller_rpm': 0.0, 'r1_shooting_altitude': 0.5945397722244263}, {'time': 26, 'ball_pos': {'x': 1.0372227430343628, 'y': 4.746651649475098, 'z': 1.2898637056350708}, 'r1_roller_rpm': 0.0, 'r1_shooting_altitude': 0.5945397722244263}, {'time': 27, 'ball_pos': {'x': 1.0376808643341064, 'y': 4.74672269821167, 'z': 1.290000319480896}, 'r1_roller_rpm': 0.0, 'r1_shooting_altitude': 0.5945397722244263}, {'time': 28, 'ball_pos': {'x': 1.0376598834991455, 'y': 4.7467193603515625, 'z': 1.2899940013885498}, 'r1_roller_rpm': 0.0, 'r1_shooting_altitude': 0.5945397722244263}, {'time': 29, 'ball_pos': {'x': 1.0371605157852173, 'y': 4.746641635894775, 'z': 1.2898451089859009}, 'r1_roller_rpm': 0.0, 'r1_shooting_altitude': 0.5945397722244263}, {'time': 30, 'ball_pos': {'x': 1.0363494157791138, 'y': 4.746431827545166, 'z': 1.28971529006958}, 'r1_roller_rpm': 0.0, 'r1_shooting_altitude': 0.5945397722244263}, {'time': 31, 'ball_pos': {'x': 1.0359089374542236, 'y': 4.746487140655518, 'z': 1.289502501487732}, 'r1_roller_rpm': 0.0, 'r1_shooting_altitude': 0.5972157823562623}, {'time': 32, 'ball_pos': {'x': 1.035582184791565, 'y': 4.747278690338135, 'z': 1.288528561592102}, 'r1_roller_rpm': 0.0, 'r1_shooting_altitude': 0.6048746215820313}, {'time': 33, 'ball_pos': {'x': 1.035424828529358, 'y': 4.748760223388672, 'z': 1.2868939638137817}, 'r1_roller_rpm': 0.0, 'r1_shooting_altitude': 0.6169624435424805}, {'time': 34, 'ball_pos': {'x': 1.0351450443267822, 'y': 4.750456809997559, 'z': 1.2850911617279053}, 'r1_roller_rpm': 0.0, 'r1_shooting_altitude': 0.6329259979248048}, {'time': 35, 'ball_pos': {'x': 1.0343246459960938, 'y': 4.752420425415039, 'z': 1.2828788757324219}, 'r1_roller_rpm': 0.0, 'r1_shooting_altitude': 0.652211438369751}, {'time': 36, 'ball_pos': {'x': 1.0329746007919312, 'y': 4.754649639129639, 'z': 1.2803055047988892}, 'r1_roller_rpm': 0.0, 'r1_shooting_altitude': 0.6742651569366456}, {'time': 37, 'ball_pos': {'x': 1.0316507816314697, 'y': 4.757149696350098, 'z': 1.2776343822479248}, 'r1_roller_rpm': 0.0, 'r1_shooting_altitude': 0.698533426475525}, {'time': 38, 'ball_pos': {'x': 1.0304419994354248, 'y': 4.759970664978027, 'z': 1.2748589515686035}, 'r1_roller_rpm': 0.0, 'r1_shooting_altitude': 0.7244625198364258}, {'time': 39, 'ball_pos': {'x': 1.0291019678115845, 'y': 4.762935161590576, 'z': 1.2720791101455688}, 'r1_roller_rpm': 0.0, 'r1_shooting_altitude': 0.7514990674972535}, {'time': 40, 'ball_pos': {'x': 1.0277055501937866, 'y': 4.766024112701416, 'z': 1.2693403959274292}, 'r1_roller_rpm': 0.0, 'r1_shooting_altitude': 0.779089223098755}, {'time': 41, 'ball_pos': {'x': 1.0262812376022339, 'y': 4.769174575805664, 'z': 1.26670241355896}, 'r1_roller_rpm': 0.0, 'r1_shooting_altitude': 0.8066793787002564}, {'time': 42, 'ball_pos': {'x': 1.0248584747314453, 'y': 4.7723188400268555, 'z': 1.2642154693603516}, 'r1_roller_rpm': 0.0, 'r1_shooting_altitude': 0.8337158071517945}, {'time': 43, 'ball_pos': {'x': 1.0234709978103638, 'y': 4.775383949279785, 'z': 1.2619245052337646}, 'r1_roller_rpm': 0.0, 'r1_shooting_altitude': 0.8596449005126954}, {'time': 44, 'ball_pos': {'x': 1.0221543312072754, 'y': 4.778293132781982, 'z': 1.2598652839660645}, 'r1_roller_rpm': 0.0, 'r1_shooting_altitude': 0.8839132892608643}, {'time': 45, 'ball_pos': {'x': 1.0209439992904663, 'y': 4.780966281890869, 'z': 1.2580667734146118}, 'r1_roller_rpm': 0.0, 'r1_shooting_altitude': 0.9059667694091798}, {'time': 46, 'ball_pos': {'x': 1.0198763608932495, 'y': 4.783322811126709, 'z': 1.2565544843673706}, 'r1_roller_rpm': 0.0, 'r1_shooting_altitude': 0.9252524482727051}, {'time': 47, 'ball_pos': {'x': 1.0189898014068604, 'y': 4.785280227661133, 'z': 1.2553473711013794}, 'r1_roller_rpm': 0.0, 'r1_shooting_altitude': 0.9412157642364503}, {'time': 48, 'ball_pos': {'x': 1.0183206796646118, 'y': 4.78675651550293, 'z': 1.25446617603302}, 'r1_roller_rpm': 0.0, 'r1_shooting_altitude': 0.9533038246154786}, {'time': 49, 'ball_pos': {'x': 1.017905592918396, 'y': 4.78767204284668, 'z': 1.2539329528808594}, 'r1_roller_rpm': 0.0, 'r1_shooting_altitude': 0.9609625446319581}, {'time': 50, 'ball_pos': {'x': 1.01777982711792, 'y': 4.787949562072754, 'z': 1.2537732124328613}, 'r1_roller_rpm': 0.0, 'r1_shooting_altitude': 0.963638554763794}, {'time': 51, 'ball_pos': {'x': 1.017796516418457, 'y': 4.787912845611572, 'z': 1.2537953853607178}, 'r1_roller_rpm': 0.0, 'r1_shooting_altitude': 0.963638554763794}, {'time': 52, 'ball_pos': {'x': 1.0177983045578003, 'y': 4.787909030914307, 'z': 1.2537981271743774}, 'r1_roller_rpm': 0.0, 'r1_shooting_altitude': 0.963638554763794}, {'time': 53, 'ball_pos': {'x': 1.0177984237670898, 'y': 4.787908554077148, 'z': 1.2537983655929565}, 'r1_roller_rpm': 0.0, 'r1_shooting_altitude': 0.963638554763794}, {'time': 54, 'ball_pos': {'x': 1.0177984237670898, 'y': 4.787908554077148, 'z': 1.2537983655929565}, 'r1_roller_rpm': 0.0, 'r1_shooting_altitude': 0.963638554763794}, {'time': 55, 'ball_pos': {'x': 1.0177984237670898, 'y': 4.787908554077148, 'z': 1.2537983655929565}, 'r1_roller_rpm': 0.0, 'r1_shooting_altitude': 0.963638554763794}, {'time': 56, 'ball_pos': {'x': 1.0177984237670898, 'y': 4.787908554077148, 'z': 1.2537983655929565}, 'r1_roller_rpm': 0.0, 'r1_shooting_altitude': 0.963638554763794}, {'time': 57, 'ball_pos': {'x': 1.0177984237670898, 'y': 4.787908554077148, 'z': 1.2537983655929565}, 'r1_roller_rpm': 0.0, 'r1_shooting_altitude': 0.963638554763794}, {'time': 58, 'ball_pos': {'x': 1.0177984237670898, 'y': 4.787908554077148, 'z': 1.2537983655929565}, 'r1_roller_rpm': 0.0, 'r1_shooting_altitude': 0.963638554763794}, {'time': 59, 'ball_pos': {'x': 1.0177984237670898, 'y': 4.787908554077148, 'z': 1.2537983655929565}, 'r1_roller_rpm': 0.0, 'r1_shooting_altitude': 0.963638554763794}, {'time': 60, 'ball_pos': {'x': 1.0177984237670898, 'y': 4.787908554077148, 'z': 1.2537983655929565}, 'r1_roller_rpm': 0.0, 'r1_shooting_altitude': 0.963638554763794}, {'time': 61, 'ball_pos': {'x': 1.0177984237670898, 'y': 4.787908554077148, 'z': 1.2537983655929565}, 'r1_roller_rpm': 59.70602390759312, 'r1_shooting_altitude': 0.963638554763794}, {'time': 62, 'ball_pos': {'x': 1.0177984237670898, 'y': 4.787908554077148, 'z': 1.2537983655929565}, 'r1_roller_rpm': 168.6249216511461, 'r1_shooting_altitude': 0.963638554763794}, {'time': 63, 'ball_pos': {'x': 1.0177984237670898, 'y': 4.787908554077148, 'z': 1.2537983655929565}, 'r1_roller_rpm': 261.69916278653295, 'r1_shooting_altitude': 0.963638554763794}, {'time': 64, 'ball_pos': {'x': 1.0177984237670898, 'y': 4.787908554077148, 'z': 1.2537983655929565}, 'r1_roller_rpm': 338.9812130641118, 'r1_shooting_altitude': 0.963638554763794}, {'time': 65, 'ball_pos': {'x': 1.0177984237670898, 'y': 4.787908554077148, 'z': 1.2537983655929565}, 'r1_roller_rpm': 400.4011181500716, 'r1_shooting_altitude': 0.963638554763794}, {'time': 66, 'ball_pos': {'x': 1.0177984237670898, 'y': 4.787908554077148, 'z': 1.2537983655929565}, 'r1_roller_rpm': 446.0987867120344, 'r1_shooting_altitude': 0.963638554763794}, {'time': 67, 'ball_pos': {'x': 1.0177984237670898, 'y': 4.787908554077148, 'z': 1.2537983655929565}, 'r1_roller_rpm': 475.8993329154728, 'r1_shooting_altitude': 0.963638554763794}, {'time': 68, 'ball_pos': {'x': 1.0177984237670898, 'y': 4.787908554077148, 'z': 1.2537983655929565}, 'r1_roller_rpm': 489.9251768445559, 'r1_shooting_altitude': 0.963638554763794}, {'time': 69, 'ball_pos': {'x': 1.0177984237670898, 'y': 4.787908554077148, 'z': 1.2537983655929565}, 'r1_roller_rpm': 488.1413413323782, 'r1_shooting_altitude': 0.963638554763794}, {'time': 70, 'ball_pos': {'x': 1.0177984237670898, 'y': 4.787908554077148, 'z': 1.2537983655929565}, 'r1_roller_rpm': 470.53033779548707, 'r1_shooting_altitude': 0.963638554763794}, {'time': 71, 'ball_pos': {'x': 1.0177984237670898, 'y': 4.787908554077148, 'z': 1.2537983655929565}, 'r1_roller_rpm': 440.4674628402579, 'r1_shooting_altitude': 0.963638554763794}, {'time': 72, 'ball_pos': {'x': 1.0177984237670898, 'y': 4.787908554077148, 'z': 1.2537983655929565}, 'r1_roller_rpm': 411.27901705766476, 'r1_shooting_altitude': 0.963638554763794}, {'time': 73, 'ball_pos': {'x': 1.0177984237670898, 'y': 4.787908554077148, 'z': 1.2537983655929565}, 'r1_roller_rpm': 386.34029705408307, 'r1_shooting_altitude': 0.963638554763794}, {'time': 74, 'ball_pos': {'x': 1.0177984237670898, 'y': 4.787908554077148, 'z': 1.2537983655929565}, 'r1_roller_rpm': 365.61632566260744, 'r1_shooting_altitude': 0.963638554763794}, {'time': 75, 'ball_pos': {'x': 1.0177984237670898, 'y': 4.787908554077148, 'z': 1.2537983655929565}, 'r1_roller_rpm': 349.1770572170487, 'r1_shooting_altitude': 0.963638554763794}, {'time': 76, 'ball_pos': {'x': 1.0177984237670898, 'y': 4.787908554077148, 'z': 1.2537983655929565}, 'r1_roller_rpm': 336.952537383596, 'r1_shooting_altitude': 0.963638554763794}, {'time': 77, 'ball_pos': {'x': 1.0177984237670898, 'y': 4.787908554077148, 'z': 1.2537983655929565}, 'r1_roller_rpm': 328.94276616224926, 'r1_shooting_altitude': 0.963638554763794}, {'time': 78, 'ball_pos': {'x': 1.0177984237670898, 'y': 4.787908554077148, 'z': 1.2537983655929565}, 'r1_roller_rpm': 325.20020930336676, 'r1_shooting_altitude': 0.963638554763794}, {'time': 79, 'ball_pos': {'x': 1.0177984237670898, 'y': 4.787908554077148, 'z': 1.2537983655929565}, 'r1_roller_rpm': 325.65491247313753, 'r1_shooting_altitude': 0.963638554763794}, {'time': 80, 'ball_pos': {'x': 1.0177984237670898, 'y': 4.787908554077148, 'z': 1.2537983655929565}, 'r1_roller_rpm': 330.3768300053725, 'r1_shooting_altitude': 0.963638554763794}, {'time': 81, 'ball_pos': {'x': 1.0177984237670898, 'y': 4.787908554077148, 'z': 1.2537983655929565}, 'r1_roller_rpm': 338.43906697707735, 'r1_shooting_altitude': 0.963638554763794}, {'time': 82, 'ball_pos': {'x': 1.0177984237670898, 'y': 4.787908554077148, 'z': 1.2537983655929565}, 'r1_roller_rpm': 346.2564637804441, 'r1_shooting_altitude': 0.963638554763794}, {'time': 83, 'ball_pos': {'x': 1.0177984237670898, 'y': 4.787908554077148, 'z': 1.2537983655929565}, 'r1_roller_rpm': 352.95459124283667, 'r1_shooting_altitude': 0.963638554763794}, {'time': 84, 'ball_pos': {'x': 1.0177984237670898, 'y': 4.787908554077148, 'z': 1.2537983655929565}, 'r1_roller_rpm': 358.49847219734954, 'r1_shooting_altitude': 0.963638554763794}, {'time': 85, 'ball_pos': {'x': 1.0177984237670898, 'y': 4.787908554077148, 'z': 1.2537983655929565}, 'r1_roller_rpm': 362.88810664398284, 'r1_shooting_altitude': 0.963638554763794}, {'time': 86, 'ball_pos': {'x': 1.0177984237670898, 'y': 4.787908554077148, 'z': 1.2537983655929565}, 'r1_roller_rpm': 366.19344891654725, 'r1_shooting_altitude': 0.963638554763794}, {'time': 87, 'ball_pos': {'x': 1.0177984237670898, 'y': 4.787908554077148, 'z': 1.2537983655929565}, 'r1_roller_rpm': 368.3270560977794, 'r1_shooting_altitude': 0.963638554763794}, {'time': 88, 'ball_pos': {'x': 1.0177984237670898, 'y': 4.787908554077148, 'z': 1.2537983655929565}, 'r1_roller_rpm': 369.3064167711318, 'r1_shooting_altitude': 0.963638554763794}, {'time': 89, 'ball_pos': {'x': 1.0177984237670898, 'y': 4.787908554077148, 'z': 1.2537983655929565}, 'r1_roller_rpm': 369.20148527041545, 'r1_shooting_altitude': 0.963638554763794}, {'time': 90, 'ball_pos': {'x': 1.0177984237670898, 'y': 4.787908554077148, 'z': 1.2537983655929565}, 'r1_roller_rpm': 367.94230726181945, 'r1_shooting_altitude': 0.963638554763794}, {'time': 91, 'ball_pos': {'x': 1.0177984237670898, 'y': 4.787908554077148, 'z': 1.2537983655929565}, 'r1_roller_rpm': 365.7737229136819, 'r1_shooting_altitude': 0.963638554763794}, {'time': 92, 'ball_pos': {'x': 1.0177984237670898, 'y': 4.787908554077148, 'z': 1.2537983655929565}, 'r1_roller_rpm': 363.692581482808, 'r1_shooting_altitude': 0.963638554763794}, {'time': 93, 'ball_pos': {'x': 1.0177984237670898, 'y': 4.787908554077148, 'z': 1.2537983655929565}, 'r1_roller_rpm': 361.87376880372494, 'r1_shooting_altitude': 0.963638554763794}, {'time': 94, 'ball_pos': {'x': 1.0177984237670898, 'y': 4.787908554077148, 'z': 1.2537983655929565}, 'r1_roller_rpm': 360.42221637714897, 'r1_shooting_altitude': 0.963638554763794}, {'time': 95, 'ball_pos': {'x': 1.0177984237670898, 'y': 4.787908554077148, 'z': 1.2537983655929565}, 'r1_roller_rpm': 359.1980155354584, 'r1_shooting_altitude': 0.963638554763794}, {'time': 96, 'ball_pos': {'x': 1.0177984237670898, 'y': 4.787908554077148, 'z': 1.2537983655929565}, 'r1_roller_rpm': 358.3585635297278, 'r1_shooting_altitude': 0.963638554763794}, {'time': 97, 'ball_pos': {'x': 1.0177984237670898, 'y': 4.787908554077148, 'z': 1.2537983655929565}, 'r1_roller_rpm': 357.781440275788, 'r1_shooting_altitude': 0.963638554763794}, {'time': 98, 'ball_pos': {'x': 1.0177984237670898, 'y': 4.787908554077148, 'z': 1.2537983655929565}, 'r1_roller_rpm': 357.48413435709165, 'r1_shooting_altitude': 0.963638554763794}, {'time': 99, 'ball_pos': {'x': 1.0177984237670898, 'y': 4.787908554077148, 'z': 1.2537983655929565}, 'r1_roller_rpm': 357.5366001074499, 'r1_shooting_altitude': 0.963638554763794}, {'time': 100, 'ball_pos': {'x': 1.0177984237670898, 'y': 4.787908554077148, 'z': 1.2537983655929565}, 'r1_roller_rpm': 357.8863717765043, 'r1_shooting_altitude': 0.963638554763794}, {'time': 101, 'ball_pos': {'x': 1.0177984237670898, 'y': 4.787908554077148, 'z': 1.2537983655929565}, 'r1_roller_rpm': 358.4460064469914, 'r1_shooting_altitude': 0.963638554763794}, {'time': 102, 'ball_pos': {'x': 1.0177984237670898, 'y': 4.787908554077148, 'z': 1.2537983655929565}, 'r1_roller_rpm': 359.0231297009312, 'r1_shooting_altitude': 0.963638554763794}, {'time': 103, 'ball_pos': {'x': 1.0177984237670898, 'y': 4.787908554077148, 'z': 1.2537983655929565}, 'r1_roller_rpm': 359.4953214541547, 'r1_shooting_altitude': 0.963638554763794}, {'time': 104, 'ball_pos': {'x': 1.0177984237670898, 'y': 4.787908554077148, 'z': 1.2537983655929565}, 'r1_roller_rpm': 359.89755887356733, 'r1_shooting_altitude': 0.963638554763794}, {'time': 105, 'ball_pos': {'x': 1.0177984237670898, 'y': 4.787908554077148, 'z': 1.2537983655929565}, 'r1_roller_rpm': 360.1948647922636, 'r1_shooting_altitude': 0.963638554763794}, {'time': 106, 'ball_pos': {'x': 1.0177984237670898, 'y': 4.787908554077148, 'z': 1.2537983655929565}, 'r1_roller_rpm': 360.4397049606018, 'r1_shooting_altitude': 0.963638554763794}, {'time': 107, 'ball_pos': {'x': 1.0177984237670898, 'y': 4.787908554077148, 'z': 1.2537983655929565}, 'r1_roller_rpm': 360.6145907951289, 'r1_shooting_altitude': 0.963638554763794}, {'time': 108, 'ball_pos': {'x': 1.0177984237670898, 'y': 4.787908554077148, 'z': 1.2537983655929565}, 'r1_roller_rpm': 360.66705654548707, 'r1_shooting_altitude': 0.963638554763794}, {'time': 109, 'ball_pos': {'x': 1.0177984237670898, 'y': 4.787908554077148, 'z': 1.2537983655929565}, 'r1_roller_rpm': 360.6495679620344, 'r1_shooting_altitude': 0.963638554763794}, {'time': 110, 'ball_pos': {'x': 1.0177984237670898, 'y': 4.787908554077148, 'z': 1.2537983655929565}, 'r1_roller_rpm': 360.5796136282235, 'r1_shooting_altitude': 0.963638554763794}, {'time': 111, 'ball_pos': {'x': 1.0177984237670898, 'y': 4.787908554077148, 'z': 1.2537983655929565}, 'r1_roller_rpm': 360.4047277936963, 'r1_shooting_altitude': 0.963638554763794}, {'time': 112, 'ball_pos': {'x': 1.0177984237670898, 'y': 4.787908554077148, 'z': 1.2537983655929565}, 'r1_roller_rpm': 360.28230770952723, 'r1_shooting_altitude': 0.963638554763794}, {'time': 113, 'ball_pos': {'x': 1.0177984237670898, 'y': 4.787908554077148, 'z': 1.2537983655929565}, 'r1_roller_rpm': 360.14239904190543, 'r1_shooting_altitude': 0.963638554763794}, {'time': 114, 'ball_pos': {'x': 1.0177984237670898, 'y': 4.787908554077148, 'z': 1.2537983655929565}, 'r1_roller_rpm': 360.00249037428364, 'r1_shooting_altitude': 0.963638554763794}, {'time': 115, 'ball_pos': {'x': 1.0177984237670898, 'y': 4.787908554077148, 'z': 1.2537983655929565}, 'r1_roller_rpm': 359.9675132073782, 'r1_shooting_altitude': 0.963638554763794}, {'time': 116, 'ball_pos': {'x': 1.0177984237670898, 'y': 4.787908554077148, 'z': 1.2537983655929565}, 'r1_roller_rpm': 359.8800702901146, 'r1_shooting_altitude': 0.963638554763794}, {'time': 117, 'ball_pos': {'x': 1.0177984237670898, 'y': 4.787908554077148, 'z': 1.2537983655929565}, 'r1_roller_rpm': 359.82760453975646, 'r1_shooting_altitude': 0.963638554763794}, {'time': 118, 'ball_pos': {'x': 1.0177984237670898, 'y': 4.787908554077148, 'z': 1.2537983655929565}, 'r1_roller_rpm': 359.8101159563037, 'r1_shooting_altitude': 0.963638554763794}, {'time': 119, 'ball_pos': {'x': 1.0177984237670898, 'y': 4.787908554077148, 'z': 1.2537983655929565}, 'r1_roller_rpm': 359.84509312320915, 'r1_shooting_altitude': 0.963638554763794}, {'time': 120, 'ball_pos': {'x': 1.0177984237670898, 'y': 4.787908554077148, 'z': 1.2537983655929565}, 'r1_roller_rpm': 359.84509312320915, 'r1_shooting_altitude': 0.963638554763794}, {'time': 121, 'ball_pos': {'x': 1.0177984237670898, 'y': 4.787908554077148, 'z': 1.2537983655929565}, 'r1_roller_rpm': 359.8800702901146, 'r1_shooting_altitude': 0.963638554763794}, {'time': 122, 'ball_pos': {'x': 1.0177984237670898, 'y': 4.787908554077148, 'z': 1.2537983655929565}, 'r1_roller_rpm': 359.9500246239255, 'r1_shooting_altitude': 0.963638554763794}, {'time': 123, 'ball_pos': {'x': 1.0177984237670898, 'y': 4.787908554077148, 'z': 1.2537983655929565}, 'r1_roller_rpm': 359.9500246239255, 'r1_shooting_altitude': 0.963638554763794}, {'time': 124, 'ball_pos': {'x': 1.0177984237670898, 'y': 4.787908554077148, 'z': 1.2537983655929565}, 'r1_roller_rpm': 359.98500179083095, 'r1_shooting_altitude': 0.963638554763794}, {'time': 125, 'ball_pos': {'x': 1.0177984237670898, 'y': 4.787908554077148, 'z': 1.2537983655929565}, 'r1_roller_rpm': 360.0199789577364, 'r1_shooting_altitude': 0.963638554763794}, {'time': 126, 'ball_pos': {'x': 1.0177984237670898, 'y': 4.787908554077148, 'z': 1.2537983655929565}, 'r1_roller_rpm': 360.0549561246418, 'r1_shooting_altitude': 0.963638554763794}, {'time': 127, 'ball_pos': {'x': 1.0177984237670898, 'y': 4.787908554077148, 'z': 1.2537983655929565}, 'r1_roller_rpm': 360.03746754118913, 'r1_shooting_altitude': 0.963638554763794}, {'time': 128, 'ball_pos': {'x': 1.0177984237670898, 'y': 4.787908554077148, 'z': 1.2537983655929565}, 'r1_roller_rpm': 360.0199789577364, 'r1_shooting_altitude': 0.963638554763794}, {'time': 129, 'ball_pos': {'x': 1.0177984237670898, 'y': 4.787908554077148, 'z': 1.2537983655929565}, 'r1_roller_rpm': 360.07244470809457, 'r1_shooting_altitude': 0.963638554763794}, {'time': 130, 'ball_pos': {'x': 1.0177984237670898, 'y': 4.787908554077148, 'z': 1.2537983655929565}, 'r1_roller_rpm': 360.03746754118913, 'r1_shooting_altitude': 0.963638554763794}, {'time': 131, 'ball_pos': {'x': 1.0177984237670898, 'y': 4.787908554077148, 'z': 1.2537983655929565}, 'r1_roller_rpm': 360.03746754118913, 'r1_shooting_altitude': 0.963638554763794}, {'time': 132, 'ball_pos': {'x': 1.0177984237670898, 'y': 4.787908554077148, 'z': 1.2537983655929565}, 'r1_roller_rpm': 360.0199789577364, 'r1_shooting_altitude': 0.963638554763794}, {'time': 133, 'ball_pos': {'x': 1.0177984237670898, 'y': 4.787908554077148, 'z': 1.2537983655929565}, 'r1_roller_rpm': 360.00249037428364, 'r1_shooting_altitude': 0.963638554763794}, {'time': 134, 'ball_pos': {'x': 1.0177984237670898, 'y': 4.787908554077148, 'z': 1.2537983655929565}, 'r1_roller_rpm': 360.0199789577364, 'r1_shooting_altitude': 0.963638554763794}, {'time': 135, 'ball_pos': {'x': 1.0177984237670898, 'y': 4.787908554077148, 'z': 1.2537983655929565}, 'r1_roller_rpm': 360.00249037428364, 'r1_shooting_altitude': 0.963638554763794}, {'time': 136, 'ball_pos': {'x': 1.0177984237670898, 'y': 4.787908554077148, 'z': 1.2537983655929565}, 'r1_roller_rpm': 359.9675132073782, 'r1_shooting_altitude': 0.963638554763794}, {'time': 137, 'ball_pos': {'x': 1.0177984237670898, 'y': 4.787908554077148, 'z': 1.2537983655929565}, 'r1_roller_rpm': 359.98500179083095, 'r1_shooting_altitude': 0.963638554763794}, {'time': 138, 'ball_pos': {'x': 1.0177984237670898, 'y': 4.787908554077148, 'z': 1.2537983655929565}, 'r1_roller_rpm': 360.00249037428364, 'r1_shooting_altitude': 0.963638554763794}, {'time': 139, 'ball_pos': {'x': 1.0177984237670898, 'y': 4.787908554077148, 'z': 1.2537983655929565}, 'r1_roller_rpm': 359.9675132073782, 'r1_shooting_altitude': 0.963638554763794}, {'time': 140, 'ball_pos': {'x': 1.0177984237670898, 'y': 4.787908554077148, 'z': 1.2537983655929565}, 'r1_roller_rpm': 360.00249037428364, 'r1_shooting_altitude': 0.963638554763794}, {'time': 141, 'ball_pos': {'x': 1.0177984237670898, 'y': 4.787908554077148, 'z': 1.2537983655929565}, 'r1_roller_rpm': 359.98500179083095, 'r1_shooting_altitude': 0.963638554763794}, {'time': 142, 'ball_pos': {'x': 1.0177984237670898, 'y': 4.787908554077148, 'z': 1.2537983655929565}, 'r1_roller_rpm': 359.98500179083095, 'r1_shooting_altitude': 0.963638554763794}, {'time': 143, 'ball_pos': {'x': 1.0177984237670898, 'y': 4.787908554077148, 'z': 1.2537983655929565}, 'r1_roller_rpm': 360.0199789577364, 'r1_shooting_altitude': 0.963638554763794}, {'time': 144, 'ball_pos': {'x': 1.0177984237670898, 'y': 4.787908554077148, 'z': 1.2537983655929565}, 'r1_roller_rpm': 360.00249037428364, 'r1_shooting_altitude': 0.963638554763794}, {'time': 145, 'ball_pos': {'x': 1.0177984237670898, 'y': 4.787908554077148, 'z': 1.2537983655929565}, 'r1_roller_rpm': 359.98500179083095, 'r1_shooting_altitude': 0.963638554763794}, {'time': 146, 'ball_pos': {'x': 1.0177984237670898, 'y': 4.787908554077148, 'z': 1.2537983655929565}, 'r1_roller_rpm': 360.00249037428364, 'r1_shooting_altitude': 0.963638554763794}, {'time': 147, 'ball_pos': {'x': 1.0177984237670898, 'y': 4.787908554077148, 'z': 1.2537983655929565}, 'r1_roller_rpm': 360.00249037428364, 'r1_shooting_altitude': 0.963638554763794}, {'time': 148, 'ball_pos': {'x': 1.0177984237670898, 'y': 4.787908554077148, 'z': 1.2537983655929565}, 'r1_roller_rpm': 360.0199789577364, 'r1_shooting_altitude': 0.963638554763794}, {'time': 149, 'ball_pos': {'x': 1.0177984237670898, 'y': 4.787908554077148, 'z': 1.2537983655929565}, 'r1_roller_rpm': 360.00249037428364, 'r1_shooting_altitude': 0.963638554763794}, {'time': 150, 'ball_pos': {'x': 1.0177984237670898, 'y': 4.787908554077148, 'z': 1.2537983655929565}, 'r1_roller_rpm': 360.00249037428364, 'r1_shooting_altitude': 0.963638554763794}, {'time': 151, 'ball_pos': {'x': 1.0177984237670898, 'y': 4.787908554077148, 'z': 1.2537983655929565}, 'r1_roller_rpm': 360.00249037428364, 'r1_shooting_altitude': 0.963638554763794}, {'time': 152, 'ball_pos': {'x': 1.0177984237670898, 'y': 4.787908554077148, 'z': 1.2537983655929565}, 'r1_roller_rpm': 360.00249037428364, 'r1_shooting_altitude': 0.963638554763794}, {'time': 153, 'ball_pos': {'x': 1.0177984237670898, 'y': 4.787908554077148, 'z': 1.2537983655929565}, 'r1_roller_rpm': 360.00249037428364, 'r1_shooting_altitude': 0.963638554763794}, {'time': 154, 'ball_pos': {'x': 1.0177984237670898, 'y': 4.787908554077148, 'z': 1.2537983655929565}, 'r1_roller_rpm': 360.00249037428364, 'r1_shooting_altitude': 0.963638554763794}, {'time': 155, 'ball_pos': {'x': 1.0177984237670898, 'y': 4.787908554077148, 'z': 1.2537983655929565}, 'r1_roller_rpm': 360.00249037428364, 'r1_shooting_altitude': 0.963638554763794}, {'time': 156, 'ball_pos': {'x': 1.0177984237670898, 'y': 4.787908554077148, 'z': 1.2537983655929565}, 'r1_roller_rpm': 360.0199789577364, 'r1_shooting_altitude': 0.963638554763794}, {'time': 157, 'ball_pos': {'x': 1.0177984237670898, 'y': 4.787908554077148, 'z': 1.2537983655929565}, 'r1_roller_rpm': 359.98500179083095, 'r1_shooting_altitude': 0.963638554763794}, {'time': 158, 'ball_pos': {'x': 1.0177984237670898, 'y': 4.787908554077148, 'z': 1.2537983655929565}, 'r1_roller_rpm': 360.00249037428364, 'r1_shooting_altitude': 0.963638554763794}, {'time': 159, 'ball_pos': {'x': 1.0177984237670898, 'y': 4.787908554077148, 'z': 1.2537983655929565}, 'r1_roller_rpm': 359.98500179083095, 'r1_shooting_altitude': 0.963638554763794}, {'time': 160, 'ball_pos': {'x': 1.0177984237670898, 'y': 4.787908554077148, 'z': 1.2537983655929565}, 'r1_roller_rpm': 360.00249037428364, 'r1_shooting_altitude': 0.963638554763794}, {'time': 161, 'ball_pos': {'x': 1.0177984237670898, 'y': 4.787908554077148, 'z': 1.2537983655929565}, 'r1_roller_rpm': 359.98500179083095, 'r1_shooting_altitude': 0.963638554763794}, {'time': 162, 'ball_pos': {'x': 1.0177984237670898, 'y': 4.787908554077148, 'z': 1.2537983655929565}, 'r1_roller_rpm': 359.98500179083095, 'r1_shooting_altitude': 0.963638554763794}, {'time': 163, 'ball_pos': {'x': 1.0177984237670898, 'y': 4.787908554077148, 'z': 1.2537983655929565}, 'r1_roller_rpm': 359.98500179083095, 'r1_shooting_altitude': 0.963638554763794}, {'time': 164, 'ball_pos': {'x': 1.0177984237670898, 'y': 4.787908554077148, 'z': 1.2537983655929565}, 'r1_roller_rpm': 360.00249037428364, 'r1_shooting_altitude': 0.963638554763794}, {'time': 165, 'ball_pos': {'x': 1.0177984237670898, 'y': 4.787908554077148, 'z': 1.2537983655929565}, 'r1_roller_rpm': 360.00249037428364, 'r1_shooting_altitude': 0.963638554763794}, {'time': 166, 'ball_pos': {'x': 1.0177984237670898, 'y': 4.787908554077148, 'z': 1.2537983655929565}, 'r1_roller_rpm': 359.98500179083095, 'r1_shooting_altitude': 0.963638554763794}, {'time': 167, 'ball_pos': {'x': 1.0177984237670898, 'y': 4.787908554077148, 'z': 1.2537983655929565}, 'r1_roller_rpm': 359.98500179083095, 'r1_shooting_altitude': 0.963638554763794}, {'time': 168, 'ball_pos': {'x': 1.0177984237670898, 'y': 4.787908554077148, 'z': 1.2537983655929565}, 'r1_roller_rpm': 360.03746754118913, 'r1_shooting_altitude': 0.963638554763794}, {'time': 169, 'ball_pos': {'x': 1.0177984237670898, 'y': 4.787908554077148, 'z': 1.2537983655929565}, 'r1_roller_rpm': 360.00249037428364, 'r1_shooting_altitude': 0.963638554763794}, {'time': 170, 'ball_pos': {'x': 1.0177984237670898, 'y': 4.787908554077148, 'z': 1.2537983655929565}, 'r1_roller_rpm': 360.03746754118913, 'r1_shooting_altitude': 0.963638554763794}, {'time': 171, 'ball_pos': {'x': 1.0177984237670898, 'y': 4.787908554077148, 'z': 1.2537983655929565}, 'r1_roller_rpm': 360.03746754118913, 'r1_shooting_altitude': 0.963638554763794}, {'time': 172, 'ball_pos': {'x': 1.0177984237670898, 'y': 4.787908554077148, 'z': 1.2537983655929565}, 'r1_roller_rpm': 360.0549561246418, 'r1_shooting_altitude': 0.963638554763794}, {'time': 173, 'ball_pos': {'x': 1.0177984237670898, 'y': 4.787908554077148, 'z': 1.2537983655929565}, 'r1_roller_rpm': 360.03746754118913, 'r1_shooting_altitude': 0.963638554763794}, {'time': 174, 'ball_pos': {'x': 1.0177984237670898, 'y': 4.787908554077148, 'z': 1.2537983655929565}, 'r1_roller_rpm': 360.0549561246418, 'r1_shooting_altitude': 0.963638554763794}, {'time': 175, 'ball_pos': {'x': 1.0177984237670898, 'y': 4.787908554077148, 'z': 1.2537983655929565}, 'r1_roller_rpm': 360.03746754118913, 'r1_shooting_altitude': 0.963638554763794}, {'time': 176, 'ball_pos': {'x': 1.0177984237670898, 'y': 4.787908554077148, 'z': 1.2537983655929565}, 'r1_roller_rpm': 360.00249037428364, 'r1_shooting_altitude': 0.963638554763794}, {'time': 177, 'ball_pos': {'x': 1.0177984237670898, 'y': 4.787908554077148, 'z': 1.2537983655929565}, 'r1_roller_rpm': 360.00249037428364, 'r1_shooting_altitude': 0.963638554763794}, {'time': 178, 'ball_pos': {'x': 1.0177984237670898, 'y': 4.787908554077148, 'z': 1.2537983655929565}, 'r1_roller_rpm': 359.9500246239255, 'r1_shooting_altitude': 0.963638554763794}, {'time': 179, 'ball_pos': {'x': 1.0177984237670898, 'y': 4.787908554077148, 'z': 1.2537983655929565}, 'r1_roller_rpm': 359.93253604047277, 'r1_shooting_altitude': 0.963638554763794}, {'time': 180, 'ball_pos': {'x': 1.0177984237670898, 'y': 4.787908554077148, 'z': 1.2537983655929565}, 'r1_roller_rpm': 359.89755887356733, 'r1_shooting_altitude': 0.963638554763794}, {'time': 181, 'ball_pos': {'x': 0.9990820288658142, 'y': 4.839209079742432, 'z': 1.3387770652770996}, 'r1_roller_rpm': 359.84509312320915, 'r1_shooting_altitude': 0.963638554763794}, {'time': 182, 'ball_pos': {'x': 0.9804084897041321, 'y': 4.889101505279541, 'z': 1.4213982820510864}, 'r1_roller_rpm': 359.84509312320915, 'r1_shooting_altitude': 0.963638554763794}, {'time': 183, 'ball_pos': {'x': 0.9617649912834167, 'y': 4.938203811645508, 'z': 1.5014739036560059}, 'r1_roller_rpm': 359.8101159563037, 'r1_shooting_altitude': 0.963638554763794}, {'time': 184, 'ball_pos': {'x': 0.9431341290473938, 'y': 4.987273216247559, 'z': 1.5787736177444458}, 'r1_roller_rpm': 359.82760453975646, 'r1_shooting_altitude': 0.963638554763794}, {'time': 185, 'ball_pos': {'x': 0.9245159029960632, 'y': 5.036309242248535, 'z': 1.6532994508743286}, 'r1_roller_rpm': 359.8800702901146, 'r1_shooting_altitude': 0.963638554763794}, {'time': 186, 'ball_pos': {'x': 0.9059103727340698, 'y': 5.085311412811279, 'z': 1.7250531911849976}, 'r1_roller_rpm': 359.9500246239255, 'r1_shooting_altitude': 0.963638554763794}, {'time': 187, 'ball_pos': {'x': 0.8873175382614136, 'y': 5.134280681610107, 'z': 1.794036626815796}, 'r1_roller_rpm': 360.0199789577364, 'r1_shooting_altitude': 0.963638554763794}, {'time': 188, 'ball_pos': {'x': 0.8687372803688049, 'y': 5.183216571807861, 'z': 1.8602519035339355}, 'r1_roller_rpm': 360.14239904190543, 'r1_shooting_altitude': 0.963638554763794}, {'time': 189, 'ball_pos': {'x': 0.8501697182655334, 'y': 5.232119560241699, 'z': 1.9237006902694702}, 'r1_roller_rpm': 360.28230770952723, 'r1_shooting_altitude': 0.963638554763794}, {'time': 190, 'ball_pos': {'x': 0.8316147327423096, 'y': 5.280988693237305, 'z': 1.9843848943710327}, 'r1_roller_rpm': 360.4047277936963, 'r1_shooting_altitude': 0.963638554763794}, {'time': 191, 'ball_pos': {'x': 0.8130723834037781, 'y': 5.329824924468994, 'z': 2.042306423187256}, 'r1_roller_rpm': 360.5621250447708, 'r1_shooting_altitude': 0.963638554763794}, {'time': 192, 'ball_pos': {'x': 0.794542670249939, 'y': 5.378627777099609, 'z': 2.0974671840667725}, 'r1_roller_rpm': 360.6845451289399, 'r1_shooting_altitude': 0.963638554763794}, {'time': 193, 'ball_pos': {'x': 0.7760255336761475, 'y': 5.42739725112915, 'z': 2.149869203567505}, 'r1_roller_rpm': 360.6495679620344, 'r1_shooting_altitude': 0.963638554763794}, {'time': 194, 'ball_pos': {'x': 0.7575209736824036, 'y': 5.476133823394775, 'z': 2.1995139122009277}, 'r1_roller_rpm': 360.5971022116762, 'r1_shooting_altitude': 0.963638554763794}, {'time': 195, 'ball_pos': {'x': 0.739029049873352, 'y': 5.524837493896484, 'z': 2.246403694152832}, 'r1_roller_rpm': 360.45719354405446, 'r1_shooting_altitude': 0.963638554763794}, {'time': 196, 'ball_pos': {'x': 0.7205496430397034, 'y': 5.573507785797119, 'z': 2.2905402183532715}, 'r1_roller_rpm': 360.1948647922636, 'r1_shooting_altitude': 0.963638554763794}, {'time': 197, 'ball_pos': {'x': 0.7020828723907471, 'y': 5.62214469909668, 'z': 2.3319251537323}, 'r1_roller_rpm': 359.89755887356733, 'r1_shooting_altitude': 0.963638554763794}, {'time': 198, 'ball_pos': {'x': 0.6836286187171936, 'y': 5.670748710632324, 'z': 2.370560646057129}, 'r1_roller_rpm': 359.4953214541547, 'r1_shooting_altitude': 0.963638554763794}, {'time': 199, 'ball_pos': {'x': 0.6651869416236877, 'y': 5.719319820404053, 'z': 2.4064483642578125}, 'r1_roller_rpm': 359.0231297009312, 'r1_shooting_altitude': 0.963638554763794}, {'time': 200, 'ball_pos': {'x': 0.6467577815055847, 'y': 5.767858028411865, 'z': 2.4395904541015625}, 'r1_roller_rpm': 358.4460064469914, 'r1_shooting_altitude': 0.963638554763794}, {'time': 201, 'ball_pos': {'x': 0.6283411383628845, 'y': 5.8163628578186035, 'z': 2.4699885845184326}, 'r1_roller_rpm': 357.8863717765043, 'r1_shooting_altitude': 0.963638554763794}, {'time': 202, 'ball_pos': {'x': 0.6099370718002319, 'y': 5.864834785461426, 'z': 2.4976446628570557}, 'r1_roller_rpm': 357.51911152399714, 'r1_shooting_altitude': 0.963638554763794}, {'time': 203, 'ball_pos': {'x': 0.5915454626083374, 'y': 5.913273811340332, 'z': 2.5225603580474854}, 'r1_roller_rpm': 357.50162294054445, 'r1_shooting_altitude': 0.963638554763794}, {'time': 204, 'ball_pos': {'x': 0.5731664299964905, 'y': 5.961679935455322, 'z': 2.5447378158569336}, 'r1_roller_rpm': 357.7989288592407, 'r1_shooting_altitude': 0.963638554763794}, {'time': 205, 'ball_pos': {'x': 0.5547998547554016, 'y': 6.0100531578063965, 'z': 2.564178943634033}, 'r1_roller_rpm': 358.3060977793696, 'r1_shooting_altitude': 0.963638554763794}, {'time': 206, 'ball_pos': {'x': 0.5364457964897156, 'y': 6.058393478393555, 'z': 2.580885410308838}, 'r1_roller_rpm': 359.2329927023639, 'r1_shooting_altitude': 0.963638554763794}, {'time': 207, 'ball_pos': {'x': 0.5181041955947876, 'y': 6.106700420379639, 'z': 2.5948588848114014}, 'r1_roller_rpm': 360.4047277936963, 'r1_shooting_altitude': 0.963638554763794}, {'time': 208, 'ball_pos': {'x': 0.49977508187294006, 'y': 6.154974937438965, 'z': 2.6061017513275146}, 'r1_roller_rpm': 361.89125738717763, 'r1_shooting_altitude': 0.963638554763794}, {'time': 209, 'ball_pos': {'x': 0.481458455324173, 'y': 6.203217029571533, 'z': 2.6146154403686523}, 'r1_roller_rpm': 363.6750928993553, 'r1_shooting_altitude': 0.963638554763794}, {'time': 210, 'ball_pos': {'x': 0.46315425634384155, 'y': 6.251425743103027, 'z': 2.6204018592834473}, 'r1_roller_rpm': 365.79121149713467, 'r1_shooting_altitude': 0.963638554763794}, {'time': 211, 'ball_pos': {'x': 0.4448625147342682, 'y': 6.2996015548706055, 'z': 2.6234631538391113}, 'r1_roller_rpm': 367.94230726181945, 'r1_shooting_altitude': 0.963638554763794}, {'time': 212, 'ball_pos': {'x': 0.4265832006931305, 'y': 6.347744941711426, 'z': 2.6238009929656982}, 'r1_roller_rpm': 369.18399668696276, 'r1_shooting_altitude': 0.963638554763794}, {'time': 213, 'ball_pos': {'x': 0.40831634402275085, 'y': 6.39585542678833, 'z': 2.6214170455932617}, 'r1_roller_rpm': 369.32390535458455, 'r1_shooting_altitude': 0.963638554763794}, {'time': 214, 'ball_pos': {'x': 0.3900618851184845, 'y': 6.443933486938477, 'z': 2.6163134574890137}, 'r1_roller_rpm': 368.3445446812321, 'r1_shooting_altitude': 0.963638554763794}, {'time': 215, 'ball_pos': {'x': 0.3718198835849762, 'y': 6.491978645324707, 'z': 2.608491897583008}, 'r1_roller_rpm': 366.17596033309457, 'r1_shooting_altitude': 0.963638554763794}, {'time': 216, 'ball_pos': {'x': 0.3535902500152588, 'y': 6.5399909019470215, 'z': 2.597954273223877}, 'r1_roller_rpm': 362.9055952274355, 'r1_shooting_altitude': 0.963638554763794}, {'time': 217, 'ball_pos': {'x': 0.33537301421165466, 'y': 6.587970733642578, 'z': 2.584702491760254}, 'r1_roller_rpm': 358.49847219734954, 'r1_shooting_altitude': 0.963638554763794}, {'time': 218, 'ball_pos': {'x': 0.3171682059764862, 'y': 6.635918140411377, 'z': 2.5687382221221924}, 'r1_roller_rpm': 352.91961407593124, 'r1_shooting_altitude': 0.963638554763794}, {'time': 219, 'ball_pos': {'x': 0.29897573590278625, 'y': 6.68383264541626, 'z': 2.550063371658325}, 'r1_roller_rpm': 346.2564637804441, 'r1_shooting_altitude': 0.963638554763794}, {'time': 220, 'ball_pos': {'x': 0.2807956635951996, 'y': 6.731714725494385, 'z': 2.528679847717285}, 'r1_roller_rpm': 338.4565555605301, 'r1_shooting_altitude': 0.963638554763794}, {'time': 221, 'ball_pos': {'x': 0.2626279592514038, 'y': 6.779563903808594, 'z': 2.504589557647705}, 'r1_roller_rpm': 330.3768300053725, 'r1_shooting_altitude': 0.963638554763794}, {'time': 222, 'ball_pos': {'x': 0.24447259306907654, 'y': 6.827381134033203, 'z': 2.4777944087982178}, 'r1_roller_rpm': 325.6724010565902, 'r1_shooting_altitude': 0.963638554763794}, {'time': 223, 'ball_pos': {'x': 0.22632959485054016, 'y': 6.8751654624938965, 'z': 2.448295831680298}, 'r1_roller_rpm': 325.182720719914, 'r1_shooting_altitude': 0.963638554763794}, {'time': 224, 'ball_pos': {'x': 0.2081989198923111, 'y': 6.922917366027832, 'z': 2.4160962104797363}, 'r1_roller_rpm': 328.94276616224926, 'r1_shooting_altitude': 0.963638554763794}, {'time': 225, 'ball_pos': {'x': 0.19008058309555054, 'y': 6.970636367797852, 'z': 2.3811967372894287}, 'r1_roller_rpm': 336.9350488001433, 'r1_shooting_altitude': 0.963638554763794}, {'time': 226, 'ball_pos': {'x': 0.1719745695590973, 'y': 7.0183234214782715, 'z': 2.343600034713745}, 'r1_roller_rpm': 349.1770572170487, 'r1_shooting_altitude': 0.963638554763794}, {'time': 227, 'ball_pos': {'x': 0.15388087928295135, 'y': 7.065978050231934, 'z': 2.303307294845581}, 'r1_roller_rpm': 365.6338142460602, 'r1_shooting_altitude': 0.963638554763794}, {'time': 228, 'ball_pos': {'x': 0.13579948246479034, 'y': 7.113600254058838, 'z': 2.2603204250335693}, 'r1_roller_rpm': 386.3577856375358, 'r1_shooting_altitude': 0.963638554763794}, {'time': 229, 'ball_pos': {'x': 0.11773038655519485, 'y': 7.161189556121826, 'z': 2.214641571044922}, 'r1_roller_rpm': 411.27901705766476, 'r1_shooting_altitude': 0.963638554763794}, {'time': 230, 'ball_pos': {'x': 0.09967358410358429, 'y': 7.208746910095215, 'z': 2.1662724018096924}, 'r1_roller_rpm': 440.44997425680515, 'r1_shooting_altitude': 0.963638554763794}, {'time': 231, 'ball_pos': {'x': 0.08162906020879745, 'y': 7.256271839141846, 'z': 2.1152145862579346}, 'r1_roller_rpm': 470.53033779548707, 'r1_shooting_altitude': 0.963638554763794}, {'time': 232, 'ball_pos': {'x': 0.06359680742025375, 'y': 7.303764820098877, 'z': 2.0614702701568604}, 'r1_roller_rpm': 488.1238527489256, 'r1_shooting_altitude': 0.963638554763794}, {'time': 233, 'ball_pos': {'x': 0.04557681828737259, 'y': 7.351224899291992, 'z': 2.0050411224365234}, 'r1_roller_rpm': 489.9426654280085, 'r1_shooting_altitude': 0.963638554763794}, {'time': 234, 'ball_pos': {'x': 0.02971830405294895, 'y': 7.393075942993164, 'z': 1.9512172937393188}, 'r1_roller_rpm': 475.9168214989255, 'r1_shooting_altitude': 0.963638554763794}, {'time': 235, 'ball_pos': {'x': 0.033206965774297714, 'y': 7.384719371795654, 'z': 1.9422873258590698}, 'r1_roller_rpm': 446.0812981285817, 'r1_shooting_altitude': 0.963638554763794}, {'time': 236, 'ball_pos': {'x': 0.036693256348371506, 'y': 7.376368999481201, 'z': 1.9306422472000122}, 'r1_roller_rpm': 400.43609531697706, 'r1_shooting_altitude': 0.963638554763794}, {'time': 237, 'ball_pos': {'x': 0.04025204852223396, 'y': 7.3678297996521, 'z': 1.916695237159729}, 'r1_roller_rpm': 338.9462358972063, 'r1_shooting_altitude': 0.963638554763794}, {'time': 238, 'ball_pos': {'x': 0.04432682320475578, 'y': 7.358057498931885, 'z': 1.9025789499282837}, 'r1_roller_rpm': 261.69916278653295, 'r1_shooting_altitude': 0.963638554763794}, {'time': 239, 'ball_pos': {'x': 0.048850297927856445, 'y': 7.347373962402344, 'z': 1.8872227668762207}, 'r1_roller_rpm': 168.60743306769342, 'r1_shooting_altitude': 0.963638554763794}, {'time': 240, 'ball_pos': {'x': 0.05332324281334877, 'y': 7.335116863250732, 'z': 1.8716212511062622}, 'r1_roller_rpm': 59.723512491045845, 'r1_shooting_altitude': 0.963638554763794}, {'time': 241, 'ball_pos': {'x': 0.05668061971664429, 'y': 7.320666790008545, 'z': 1.8566315174102783}, 'r1_roller_rpm': 0.0, 'r1_shooting_altitude': 0.963638554763794}, {'time': 242, 'ball_pos': {'x': 0.05953649431467056, 'y': 7.305323123931885, 'z': 1.8402509689331055}, 'r1_roller_rpm': 0.0, 'r1_shooting_altitude': 0.963638554763794}, {'time': 243, 'ball_pos': {'x': 0.06189132481813431, 'y': 7.289085865020752, 'z': 1.8224807977676392}, 'r1_roller_rpm': 0.0, 'r1_shooting_altitude': 0.963638554763794}, {'time': 244, 'ball_pos': {'x': 0.06374555826187134, 'y': 7.271956920623779, 'z': 1.803322196006775}, 'r1_roller_rpm': 0.0, 'r1_shooting_altitude': 0.963638554763794}, {'time': 245, 'ball_pos': {'x': 0.06509964168071747, 'y': 7.253935813903809, 'z': 1.7827764749526978}, 'r1_roller_rpm': 0.0, 'r1_shooting_altitude': 0.963638554763794}, {'time': 246, 'ball_pos': {'x': 0.06595402956008911, 'y': 7.2350239753723145, 'z': 1.7608449459075928}, 'r1_roller_rpm': 0.0, 'r1_shooting_altitude': 0.963638554763794}, {'time': 247, 'ball_pos': {'x': 0.06630916893482208, 'y': 7.2152228355407715, 'z': 1.737528681755066}, 'r1_roller_rpm': 0.0, 'r1_shooting_altitude': 0.963638554763794}, {'time': 248, 'ball_pos': {'x': 0.0661655068397522, 'y': 7.1945319175720215, 'z': 1.7128289937973022}, 'r1_roller_rpm': 0.0, 'r1_shooting_altitude': 0.963638554763794}, {'time': 249, 'ball_pos': {'x': 0.06552349776029587, 'y': 7.172953128814697, 'z': 1.6867473125457764}, 'r1_roller_rpm': 0.0, 'r1_shooting_altitude': 0.963638554763794}, {'time': 250, 'ball_pos': {'x': 0.06438358128070831, 'y': 7.150486469268799, 'z': 1.6592845916748047}, 'r1_roller_rpm': 0.0, 'r1_shooting_altitude': 0.963638554763794}, {'time': 251, 'ball_pos': {'x': 0.06274621188640594, 'y': 7.127133369445801, 'z': 1.6304422616958618}, 'r1_roller_rpm': 0.0, 'r1_shooting_altitude': 0.963638554763794}, {'time': 252, 'ball_pos': {'x': 0.06061182916164398, 'y': 7.102894306182861, 'z': 1.6002215147018433}, 'r1_roller_rpm': 0.0, 'r1_shooting_altitude': 0.963638554763794}, {'time': 253, 'ball_pos': {'x': 0.057980891317129135, 'y': 7.077770233154297, 'z': 1.5686235427856445}, 'r1_roller_rpm': 0.0, 'r1_shooting_altitude': 0.963638554763794}, {'time': 254, 'ball_pos': {'x': 0.054853834211826324, 'y': 7.051761627197266, 'z': 1.5356496572494507}, 'r1_roller_rpm': 0.0, 'r1_shooting_altitude': 0.963638554763794}, {'time': 255, 'ball_pos': {'x': 0.051231108605861664, 'y': 7.024869441986084, 'z': 1.5013010501861572}, 'r1_roller_rpm': 0.0, 'r1_shooting_altitude': 0.963638554763794}, {'time': 256, 'ball_pos': {'x': 0.048369988799095154, 'y': 6.9954833984375, 'z': 1.4676717519760132}, 'r1_roller_rpm': 0.0, 'r1_shooting_altitude': 0.963638554763794}, {'time': 257, 'ball_pos': {'x': 0.04602855071425438, 'y': 6.965080261230469, 'z': 1.4327806234359741}, 'r1_roller_rpm': 0.0, 'r1_shooting_altitude': 0.963638554763794}, {'time': 258, 'ball_pos': {'x': 0.044150859117507935, 'y': 6.933772087097168, 'z': 1.3965355157852173}, 'r1_roller_rpm': 0.0, 'r1_shooting_altitude': 0.963638554763794}, {'time': 259, 'ball_pos': {'x': 0.04273649677634239, 'y': 6.901559352874756, 'z': 1.3589377403259277}, 'r1_roller_rpm': 0.0, 'r1_shooting_altitude': 0.963638554763794}, {'time': 260, 'ball_pos': {'x': 0.041785046458244324, 'y': 6.868443012237549, 'z': 1.3199883699417114}, 'r1_roller_rpm': 0.0, 'r1_shooting_altitude': 0.963638554763794}, {'time': 261, 'ball_pos': {'x': 0.0412960909307003, 'y': 6.834424018859863, 'z': 1.2796887159347534}, 'r1_roller_rpm': 0.0, 'r1_shooting_altitude': 0.963638554763794}, {'time': 262, 'ball_pos': {'x': 0.0412692129611969, 'y': 6.799502849578857, 'z': 1.2380399703979492}, 'r1_roller_rpm': 0.0, 'r1_shooting_altitude': 0.963638554763794}, {'time': 263, 'ball_pos': {'x': 0.041704002767801285, 'y': 6.763680458068848, 'z': 1.1950433254241943}, 'r1_roller_rpm': 0.0, 'r1_shooting_altitude': 0.963638554763794}, {'time': 264, 'ball_pos': {'x': 0.04001544415950775, 'y': 6.723766326904297, 'z': 1.1628031730651855}, 'r1_roller_rpm': 0.0, 'r1_shooting_altitude': 0.963638554763794}, {'time': 265, 'ball_pos': {'x': 0.03310895711183548, 'y': 6.677884101867676, 'z': 1.1529076099395752}, 'r1_roller_rpm': 0.0, 'r1_shooting_altitude': 0.963638554763794}, {'time': 266, 'ball_pos': {'x': 0.017070049419999123, 'y': 6.674749374389648, 'z': 1.1555960178375244}, 'r1_roller_rpm': 0.0, 'r1_shooting_altitude': 0.963638554763794}, {'time': 267, 'ball_pos': {'x': 0.004769860301166773, 'y': 6.676538944244385, 'z': 1.1574935913085938}, 'r1_roller_rpm': 0.0, 'r1_shooting_altitude': 0.963638554763794}, {'time': 268, 'ball_pos': {'x': -0.004006346222013235, 'y': 6.680419921875, 'z': 1.1630586385726929}, 'r1_roller_rpm': 0.0, 'r1_shooting_altitude': 0.963638554763794}, {'time': 269, 'ball_pos': {'x': -0.011846511624753475, 'y': 6.684803009033203, 'z': 1.1681941747665405}, 'r1_roller_rpm': 0.0, 'r1_shooting_altitude': 0.963638554763794}, {'time': 270, 'ball_pos': {'x': -0.018782325088977814, 'y': 6.688891887664795, 'z': 1.172775387763977}, 'r1_roller_rpm': 0.0, 'r1_shooting_altitude': 0.963638554763794}, {'time': 271, 'ball_pos': {'x': -0.02481459639966488, 'y': 6.69268798828125, 'z': 1.1768025159835815}, 'r1_roller_rpm': 0.0, 'r1_shooting_altitude': 0.963638554763794}, {'time': 272, 'ball_pos': {'x': -0.02994414232671261, 'y': 6.696190357208252, 'z': 1.1802763938903809}, 'r1_roller_rpm': 0.0, 'r1_shooting_altitude': 0.963638554763794}, {'time': 273, 'ball_pos': {'x': -0.03417177125811577, 'y': 6.699399948120117, 'z': 1.183197259902954}, 'r1_roller_rpm': 0.0, 'r1_shooting_altitude': 0.963638554763794}, {'time': 274, 'ball_pos': {'x': -0.0358642153441906, 'y': 6.701967716217041, 'z': 1.1855247020721436}, 'r1_roller_rpm': 0.0, 'r1_shooting_altitude': 0.963638554763794}, {'time': 275, 'ball_pos': {'x': -0.034435588866472244, 'y': 6.703836917877197, 'z': 1.1857858896255493}, 'r1_roller_rpm': 0.0, 'r1_shooting_altitude': 0.963638554763794}, {'time': 276, 'ball_pos': {'x': -0.0324830636382103, 'y': 6.70559549331665, 'z': 1.1834758520126343}, 'r1_roller_rpm': 0.0, 'r1_shooting_altitude': 0.963638554763794}, {'time': 277, 'ball_pos': {'x': -0.030107347294688225, 'y': 6.706234455108643, 'z': 1.1821647882461548}, 'r1_roller_rpm': 0.0, 'r1_shooting_altitude': 0.963638554763794}, {'time': 278, 'ball_pos': {'x': -0.027339637279510498, 'y': 6.7063822746276855, 'z': 1.1806296110153198}, 'r1_roller_rpm': 0.0, 'r1_shooting_altitude': 0.963638554763794}, {'time': 279, 'ball_pos': {'x': -0.023652348667383194, 'y': 6.706252574920654, 'z': 1.1785019636154175}, 'r1_roller_rpm': 0.0, 'r1_shooting_altitude': 0.963638554763794}, {'time': 280, 'ball_pos': {'x': -0.019064683467149734, 'y': 6.705743312835693, 'z': 1.1759421825408936}, 'r1_roller_rpm': 0.0, 'r1_shooting_altitude': 0.963638554763794}, {'time': 281, 'ball_pos': {'x': -0.01361228059977293, 'y': 6.704953670501709, 'z': 1.172783613204956}, 'r1_roller_rpm': 0.0, 'r1_shooting_altitude': 0.963638554763794}, {'time': 282, 'ball_pos': {'x': -0.007270528003573418, 'y': 6.70387601852417, 'z': 1.1690726280212402}, 'r1_roller_rpm': 0.0, 'r1_shooting_altitude': 0.963638554763794}, {'time': 283, 'ball_pos': {'x': -3.7499961763387546e-05, 'y': 6.702509880065918, 'z': 1.1648145914077759}, 'r1_roller_rpm': 0.0, 'r1_shooting_altitude': 0.963638554763794}, {'time': 284, 'ball_pos': {'x': 0.008086294867098331, 'y': 6.700854778289795, 'z': 1.1600104570388794}, 'r1_roller_rpm': 0.0, 'r1_shooting_altitude': 0.963638554763794}, {'time': 285, 'ball_pos': {'x': 0.01710008829832077, 'y': 6.698911666870117, 'z': 1.154660940170288}, 'r1_roller_rpm': 0.0, 'r1_shooting_altitude': 0.963638554763794}, {'time': 286, 'ball_pos': {'x': 0.025596974417567253, 'y': 6.694069862365723, 'z': 1.1537142992019653}, 'r1_roller_rpm': 0.0, 'r1_shooting_altitude': 0.963638554763794}, {'time': 287, 'ball_pos': {'x': 0.03320580720901489, 'y': 6.687828063964844, 'z': 1.1545840501785278}, 'r1_roller_rpm': 0.0, 'r1_shooting_altitude': 0.963638554763794}, {'time': 288, 'ball_pos': {'x': 0.0395282544195652, 'y': 6.681119918823242, 'z': 1.1561139822006226}, 'r1_roller_rpm': 0.0, 'r1_shooting_altitude': 0.963638554763794}, {'time': 289, 'ball_pos': {'x': 0.0388825498521328, 'y': 6.678781032562256, 'z': 1.1598901748657227}, 'r1_roller_rpm': 0.0, 'r1_shooting_altitude': 0.963638554763794}, {'time': 290, 'ball_pos': {'x': 0.036779873073101044, 'y': 6.678507328033447, 'z': 1.1602249145507812}, 'r1_roller_rpm': 0.0, 'r1_shooting_altitude': 0.963638554763794}, {'time': 291, 'ball_pos': {'x': 0.03434426337480545, 'y': 6.6787333488464355, 'z': 1.1573842763900757}, 'r1_roller_rpm': 0.0, 'r1_shooting_altitude': 0.963638554763794}, {'time': 292, 'ball_pos': {'x': 0.0319812037050724, 'y': 6.67883825302124, 'z': 1.1526532173156738}, 'r1_roller_rpm': 0.0, 'r1_shooting_altitude': 0.963638554763794}, {'time': 293, 'ball_pos': {'x': 0.02950095944106579, 'y': 6.677958011627197, 'z': 1.1518474817276}, 'r1_roller_rpm': 0.0, 'r1_shooting_altitude': 0.963638554763794}, {'time': 294, 'ball_pos': {'x': 0.026508348062634468, 'y': 6.6767258644104, 'z': 1.1508445739746094}, 'r1_roller_rpm': 0.0, 'r1_shooting_altitude': 0.963638554763794}, {'time': 295, 'ball_pos': {'x': 0.023003829643130302, 'y': 6.67514181137085, 'z': 1.1496449708938599}, 'r1_roller_rpm': 0.0, 'r1_shooting_altitude': 0.963638554763794}, {'time': 296, 'ball_pos': {'x': 0.01928221434354782, 'y': 6.673107624053955, 'z': 1.1487818956375122}, 'r1_roller_rpm': 0.0, 'r1_shooting_altitude': 0.963638554763794}, {'time': 297, 'ball_pos': {'x': 0.017044207081198692, 'y': 6.670415878295898, 'z': 1.1495810747146606}, 'r1_roller_rpm': 0.0, 'r1_shooting_altitude': 0.963638554763794}, {'time': 298, 'ball_pos': {'x': 0.015848245471715927, 'y': 6.669281959533691, 'z': 1.1500457525253296}, 'r1_roller_rpm': 0.0, 'r1_shooting_altitude': 0.963638554763794}, {'time': 299, 'ball_pos': {'x': 0.01590345799922943, 'y': 6.669505596160889, 'z': 1.1500556468963623}, 'r1_roller_rpm': 0.0, 'r1_shooting_altitude': 0.963638554763794}, {'time': 300, 'ball_pos': {'x': 0.016710158437490463, 'y': 6.669547080993652, 'z': 1.1496156454086304}, 'r1_roller_rpm': 0.0, 'r1_shooting_altitude': 0.963638554763794}, {'time': 301, 'ball_pos': {'x': 0.01739116758108139, 'y': 6.670042514801025, 'z': 1.1493264436721802}, 'r1_roller_rpm': 0.0, 'r1_shooting_altitude': 0.963638554763794}, {'time': 302, 'ball_pos': {'x': 0.01843658834695816, 'y': 6.670803070068359, 'z': 1.1488826274871826}, 'r1_roller_rpm': 0.0, 'r1_shooting_altitude': 0.963638554763794}, {'time': 303, 'ball_pos': {'x': 0.01991080492734909, 'y': 6.671875, 'z': 1.148256778717041}, 'r1_roller_rpm': 0.0, 'r1_shooting_altitude': 0.963638554763794}, {'time': 304, 'ball_pos': {'x': 0.021077364683151245, 'y': 6.6729350090026855, 'z': 1.1487462520599365}, 'r1_roller_rpm': 0.0, 'r1_shooting_altitude': 0.963638554763794}, {'time': 305, 'ball_pos': {'x': 0.021726999431848526, 'y': 6.673640727996826, 'z': 1.1490423679351807}, 'r1_roller_rpm': 0.0, 'r1_shooting_altitude': 0.963638554763794}, {'time': 306, 'ball_pos': {'x': 0.021861454471945763, 'y': 6.67399263381958, 'z': 1.1491405963897705}, 'r1_roller_rpm': 0.0, 'r1_shooting_altitude': 0.963638554763794}, {'time': 307, 'ball_pos': {'x': 0.021481191739439964, 'y': 6.6739912033081055, 'z': 1.149040937423706}, 'r1_roller_rpm': 0.0, 'r1_shooting_altitude': 0.963638554763794}, {'time': 308, 'ball_pos': {'x': 0.02058667503297329, 'y': 6.673637390136719, 'z': 1.148743748664856}, 'r1_roller_rpm': 0.0, 'r1_shooting_altitude': 0.963638554763794}, {'time': 309, 'ball_pos': {'x': 0.019584685564041138, 'y': 6.672813892364502, 'z': 1.1486059427261353}, 'r1_roller_rpm': 0.0, 'r1_shooting_altitude': 0.963638554763794}, {'time': 310, 'ball_pos': {'x': 0.019539982080459595, 'y': 6.671605110168457, 'z': 1.1484142541885376}, 'r1_roller_rpm': 0.0, 'r1_shooting_altitude': 0.963638554763794}, {'time': 311, 'ball_pos': {'x': 0.019618278369307518, 'y': 6.671662330627441, 'z': 1.148380994796753}, 'r1_roller_rpm': 0.0, 'r1_shooting_altitude': 0.963638554763794}, {'time': 312, 'ball_pos': {'x': 0.020012445747852325, 'y': 6.671982288360596, 'z': 1.1482971906661987}, 'r1_roller_rpm': 0.0, 'r1_shooting_altitude': 0.963638554763794}, {'time': 313, 'ball_pos': {'x': 0.0199818704277277, 'y': 6.672061443328857, 'z': 1.1483033895492554}, 'r1_roller_rpm': 0.0, 'r1_shooting_altitude': 0.963638554763794}, {'time': 314, 'ball_pos': {'x': 0.01991776004433632, 'y': 6.67188024520874, 'z': 1.1482540369033813}, 'r1_roller_rpm': 0.0, 'r1_shooting_altitude': 0.963638554763794}, {'time': 315, 'ball_pos': {'x': 0.019917380064725876, 'y': 6.671879768371582, 'z': 1.1482540369033813}, 'r1_roller_rpm': 0.0, 'r1_shooting_altitude': 0.963638554763794}, {'time': 316, 'ball_pos': {'x': 0.019917378202080727, 'y': 6.671879768371582, 'z': 1.1482540369033813}, 'r1_roller_rpm': 0.0, 'r1_shooting_altitude': 0.963638554763794}, {'time': 317, 'ball_pos': {'x': 0.019917378202080727, 'y': 6.671879768371582, 'z': 1.1482540369033813}, 'r1_roller_rpm': 0.0, 'r1_shooting_altitude': 0.963638554763794}, {'time': 318, 'ball_pos': {'x': 0.019917378202080727, 'y': 6.671879768371582, 'z': 1.1482540369033813}, 'r1_roller_rpm': 0.0, 'r1_shooting_altitude': 0.963638554763794}, {'time': 319, 'ball_pos': {'x': 0.019917376339435577, 'y': 6.671879768371582, 'z': 1.1482540369033813}, 'r1_roller_rpm': 0.0, 'r1_shooting_altitude': 0.963638554763794}, {'time': 320, 'ball_pos': {'x': 0.019917376339435577, 'y': 6.671879768371582, 'z': 1.1482540369033813}, 'r1_roller_rpm': 0.0, 'r1_shooting_altitude': 0.963638554763794}, {'time': 321, 'ball_pos': {'x': 0.019917376339435577, 'y': 6.671879768371582, 'z': 1.1482540369033813}, 'r1_roller_rpm': 0.0, 'r1_shooting_altitude': 0.963638554763794}, {'time': 322, 'ball_pos': {'x': 0.019917376339435577, 'y': 6.671879768371582, 'z': 1.1482540369033813}, 'r1_roller_rpm': 0.0, 'r1_shooting_altitude': 0.963638554763794}, {'time': 323, 'ball_pos': {'x': 0.019917376339435577, 'y': 6.671879768371582, 'z': 1.1482540369033813}, 'r1_roller_rpm': 0.0, 'r1_shooting_altitude': 0.963638554763794}, {'time': 324, 'ball_pos': {'x': 0.019917376339435577, 'y': 6.671879768371582, 'z': 1.1482540369033813}, 'r1_roller_rpm': 0.0, 'r1_shooting_altitude': 0.963638554763794}, {'time': 325, 'ball_pos': {'x': 0.019917376339435577, 'y': 6.671879768371582, 'z': 1.1482540369033813}, 'r1_roller_rpm': 0.0, 'r1_shooting_altitude': 0.963638554763794}, {'time': 326, 'ball_pos': {'x': 0.019917376339435577, 'y': 6.671879768371582, 'z': 1.1482540369033813}, 'r1_roller_rpm': 0.0, 'r1_shooting_altitude': 0.963638554763794}, {'time': 327, 'ball_pos': {'x': 0.019917376339435577, 'y': 6.671879768371582, 'z': 1.1482540369033813}, 'r1_roller_rpm': 0.0, 'r1_shooting_altitude': 0.963638554763794}, {'time': 328, 'ball_pos': {'x': 0.019917376339435577, 'y': 6.671879768371582, 'z': 1.1482540369033813}, 'r1_roller_rpm': 0.0, 'r1_shooting_altitude': 0.963638554763794}, {'time': 329, 'ball_pos': {'x': 0.019917376339435577, 'y': 6.671879768371582, 'z': 1.1482540369033813}, 'r1_roller_rpm': 0.0, 'r1_shooting_altitude': 0.963638554763794}, {'time': 330, 'ball_pos': {'x': 0.019917376339435577, 'y': 6.671879768371582, 'z': 1.1482540369033813}, 'r1_roller_rpm': 0.0, 'r1_shooting_altitude': 0.963638554763794}, {'time': 331, 'ball_pos': {'x': 0.019917376339435577, 'y': 6.671879768371582, 'z': 1.1482540369033813}, 'r1_roller_rpm': 0.0, 'r1_shooting_altitude': 0.963638554763794}, {'time': 332, 'ball_pos': {'x': 0.019917376339435577, 'y': 6.671879768371582, 'z': 1.1482540369033813}, 'r1_roller_rpm': 0.0, 'r1_shooting_altitude': 0.963638554763794}, {'time': 333, 'ball_pos': {'x': 0.019917376339435577, 'y': 6.671879768371582, 'z': 1.1482540369033813}, 'r1_roller_rpm': 0.0, 'r1_shooting_altitude': 0.963638554763794}, {'time': 334, 'ball_pos': {'x': 0.019917376339435577, 'y': 6.671879768371582, 'z': 1.1482540369033813}, 'r1_roller_rpm': 0.0, 'r1_shooting_altitude': 0.963638554763794}, {'time': 335, 'ball_pos': {'x': 0.019917376339435577, 'y': 6.671879768371582, 'z': 1.1482540369033813}, 'r1_roller_rpm': 0.0, 'r1_shooting_altitude': 0.963638554763794}, {'time': 336, 'ball_pos': {'x': 0.019917376339435577, 'y': 6.671879768371582, 'z': 1.1482540369033813}, 'r1_roller_rpm': 0.0, 'r1_shooting_altitude': 0.963638554763794}, {'time': 337, 'ball_pos': {'x': 0.019917376339435577, 'y': 6.671879768371582, 'z': 1.1482540369033813}, 'r1_roller_rpm': 0.0, 'r1_shooting_altitude': 0.963638554763794}, {'time': 338, 'ball_pos': {'x': 0.019917376339435577, 'y': 6.671879768371582, 'z': 1.1482540369033813}, 'r1_roller_rpm': 0.0, 'r1_shooting_altitude': 0.963638554763794}, {'time': 339, 'ball_pos': {'x': 0.019917376339435577, 'y': 6.671879768371582, 'z': 1.1482540369033813}, 'r1_roller_rpm': 0.0, 'r1_shooting_altitude': 0.963638554763794}, {'time': 340, 'ball_pos': {'x': 0.019917376339435577, 'y': 6.671879768371582, 'z': 1.1482540369033813}, 'r1_roller_rpm': 0.0, 'r1_shooting_altitude': 0.963638554763794}, {'time': 341, 'ball_pos': {'x': 0.019917376339435577, 'y': 6.671879768371582, 'z': 1.1482540369033813}, 'r1_roller_rpm': 0.0, 'r1_shooting_altitude': 0.963638554763794}, {'time': 342, 'ball_pos': {'x': 0.019917376339435577, 'y': 6.671879768371582, 'z': 1.1482540369033813}, 'r1_roller_rpm': 0.0, 'r1_shooting_altitude': 0.963638554763794}, {'time': 343, 'ball_pos': {'x': 0.019917376339435577, 'y': 6.671879768371582, 'z': 1.1482540369033813}, 'r1_roller_rpm': 0.0, 'r1_shooting_altitude': 0.963638554763794}, {'time': 344, 'ball_pos': {'x': 0.019917376339435577, 'y': 6.671879768371582, 'z': 1.1482540369033813}, 'r1_roller_rpm': 0.0, 'r1_shooting_altitude': 0.963638554763794}, {'time': 345, 'ball_pos': {'x': 0.019917376339435577, 'y': 6.671879768371582, 'z': 1.1482540369033813}, 'r1_roller_rpm': 0.0, 'r1_shooting_altitude': 0.963638554763794}, {'time': 346, 'ball_pos': {'x': 0.019917376339435577, 'y': 6.671879768371582, 'z': 1.1482540369033813}, 'r1_roller_rpm': 0.0, 'r1_shooting_altitude': 0.963638554763794}, {'time': 347, 'ball_pos': {'x': 0.019917376339435577, 'y': 6.671879768371582, 'z': 1.1482540369033813}, 'r1_roller_rpm': 0.0, 'r1_shooting_altitude': 0.963638554763794}, {'time': 348, 'ball_pos': {'x': 0.019917376339435577, 'y': 6.671879768371582, 'z': 1.1482540369033813}, 'r1_roller_rpm': 0.0, 'r1_shooting_altitude': 0.963638554763794}, {'time': 349, 'ball_pos': {'x': 0.019917376339435577, 'y': 6.671879768371582, 'z': 1.1482540369033813}, 'r1_roller_rpm': 0.0, 'r1_shooting_altitude': 0.963638554763794}, {'time': 350, 'ball_pos': {'x': 0.019917376339435577, 'y': 6.671879768371582, 'z': 1.1482540369033813}, 'r1_roller_rpm': 0.0, 'r1_shooting_altitude': 0.963638554763794}, {'time': 351, 'ball_pos': {'x': 0.019917376339435577, 'y': 6.671879768371582, 'z': 1.1482540369033813}, 'r1_roller_rpm': 0.0, 'r1_shooting_altitude': 0.963638554763794}, {'time': 352, 'ball_pos': {'x': 0.019917376339435577, 'y': 6.671879768371582, 'z': 1.1482540369033813}, 'r1_roller_rpm': 0.0, 'r1_shooting_altitude': 0.963638554763794}, {'time': 353, 'ball_pos': {'x': 0.019917376339435577, 'y': 6.671879768371582, 'z': 1.1482540369033813}, 'r1_roller_rpm': 0.0, 'r1_shooting_altitude': 0.963638554763794}, {'time': 354, 'ball_pos': {'x': 0.019917376339435577, 'y': 6.671879768371582, 'z': 1.1482540369033813}, 'r1_roller_rpm': 0.0, 'r1_shooting_altitude': 0.963638554763794}, {'time': 355, 'ball_pos': {'x': 0.019917376339435577, 'y': 6.671879768371582, 'z': 1.1482540369033813}, 'r1_roller_rpm': 0.0, 'r1_shooting_altitude': 0.963638554763794}, {'time': 356, 'ball_pos': {'x': 0.019917376339435577, 'y': 6.671879768371582, 'z': 1.1482540369033813}, 'r1_roller_rpm': 0.0, 'r1_shooting_altitude': 0.963638554763794}, {'time': 357, 'ball_pos': {'x': 0.019917376339435577, 'y': 6.671879768371582, 'z': 1.1482540369033813}, 'r1_roller_rpm': 0.0, 'r1_shooting_altitude': 0.963638554763794}, {'time': 358, 'ball_pos': {'x': 0.019917376339435577, 'y': 6.671879768371582, 'z': 1.1482540369033813}, 'r1_roller_rpm': 0.0, 'r1_shooting_altitude': 0.963638554763794}, {'time': 359, 'ball_pos': {'x': 0.019917376339435577, 'y': 6.671879768371582, 'z': 1.1482540369033813}, 'r1_roller_rpm': 0.0, 'r1_shooting_altitude': 0.963638554763794}, {'time': 360, 'ball_pos': {'x': 0.019917376339435577, 'y': 6.671879768371582, 'z': 1.1482540369033813}, 'r1_roller_rpm': 0.0, 'r1_shooting_altitude': 0.963638554763794}, {'time': 361, 'ball_pos': {'x': 0.019917376339435577, 'y': 6.671879768371582, 'z': 1.1482540369033813}, 'r1_roller_rpm': 0.0, 'r1_shooting_altitude': 0.963638554763794}, {'time': 362, 'ball_pos': {'x': 0.019917376339435577, 'y': 6.671879768371582, 'z': 1.1482540369033813}, 'r1_roller_rpm': 0.0, 'r1_shooting_altitude': 0.963638554763794}, {'time': 363, 'ball_pos': {'x': 0.019917376339435577, 'y': 6.671879768371582, 'z': 1.1482540369033813}, 'r1_roller_rpm': 0.0, 'r1_shooting_altitude': 0.963638554763794}, {'time': 364, 'ball_pos': {'x': 0.019917376339435577, 'y': 6.671879768371582, 'z': 1.1482540369033813}, 'r1_roller_rpm': 0.0, 'r1_shooting_altitude': 0.963638554763794}, {'time': 365, 'ball_pos': {'x': 0.019917376339435577, 'y': 6.671879768371582, 'z': 1.1482540369033813}, 'r1_roller_rpm': 0.0, 'r1_shooting_altitude': 0.963638554763794}, {'time': 366, 'ball_pos': {'x': 0.019917376339435577, 'y': 6.671879768371582, 'z': 1.1482540369033813}, 'r1_roller_rpm': 0.0, 'r1_shooting_altitude': 0.963638554763794}, {'time': 367, 'ball_pos': {'x': 0.019917376339435577, 'y': 6.671879768371582, 'z': 1.1482540369033813}, 'r1_roller_rpm': 0.0, 'r1_shooting_altitude': 0.963638554763794}, {'time': 368, 'ball_pos': {'x': 0.019917376339435577, 'y': 6.671879768371582, 'z': 1.1482540369033813}, 'r1_roller_rpm': 0.0, 'r1_shooting_altitude': 0.963638554763794}, {'time': 369, 'ball_pos': {'x': 0.019917376339435577, 'y': 6.671879768371582, 'z': 1.1482540369033813}, 'r1_roller_rpm': 0.0, 'r1_shooting_altitude': 0.963638554763794}, {'time': 370, 'ball_pos': {'x': 0.019917376339435577, 'y': 6.671879768371582, 'z': 1.1482540369033813}, 'r1_roller_rpm': 0.0, 'r1_shooting_altitude': 0.963638554763794}, {'time': 371, 'ball_pos': {'x': 0.019917376339435577, 'y': 6.671879768371582, 'z': 1.1482540369033813}, 'r1_roller_rpm': 0.0, 'r1_shooting_altitude': 0.963638554763794}, {'time': 372, 'ball_pos': {'x': 0.019917376339435577, 'y': 6.671879768371582, 'z': 1.1482540369033813}, 'r1_roller_rpm': 0.0, 'r1_shooting_altitude': 0.963638554763794}, {'time': 373, 'ball_pos': {'x': 0.019917376339435577, 'y': 6.671879768371582, 'z': 1.1482540369033813}, 'r1_roller_rpm': 0.0, 'r1_shooting_altitude': 0.963638554763794}, {'time': 374, 'ball_pos': {'x': 0.019917376339435577, 'y': 6.671879768371582, 'z': 1.1482540369033813}, 'r1_roller_rpm': 0.0, 'r1_shooting_altitude': 0.963638554763794}, {'time': 375, 'ball_pos': {'x': 0.019917376339435577, 'y': 6.671879768371582, 'z': 1.1482540369033813}, 'r1_roller_rpm': 0.0, 'r1_shooting_altitude': 0.963638554763794}, {'time': 376, 'ball_pos': {'x': 0.019917376339435577, 'y': 6.671879768371582, 'z': 1.1482540369033813}, 'r1_roller_rpm': 0.0, 'r1_shooting_altitude': 0.963638554763794}, {'time': 377, 'ball_pos': {'x': 0.019917376339435577, 'y': 6.671879768371582, 'z': 1.1482540369033813}, 'r1_roller_rpm': 0.0, 'r1_shooting_altitude': 0.963638554763794}, {'time': 378, 'ball_pos': {'x': 0.019917376339435577, 'y': 6.671879768371582, 'z': 1.1482540369033813}, 'r1_roller_rpm': 0.0, 'r1_shooting_altitude': 0.963638554763794}, {'time': 379, 'ball_pos': {'x': 0.019917376339435577, 'y': 6.671879768371582, 'z': 1.1482540369033813}, 'r1_roller_rpm': 0.0, 'r1_shooting_altitude': 0.963638554763794}, {'time': 380, 'ball_pos': {'x': 0.019917376339435577, 'y': 6.671879768371582, 'z': 1.1482540369033813}, 'r1_roller_rpm': 0.0, 'r1_shooting_altitude': 0.963638554763794}, {'time': 381, 'ball_pos': {'x': 0.019917376339435577, 'y': 6.671879768371582, 'z': 1.1482540369033813}, 'r1_roller_rpm': 0.0, 'r1_shooting_altitude': 0.963638554763794}, {'time': 382, 'ball_pos': {'x': 0.019917376339435577, 'y': 6.671879768371582, 'z': 1.1482540369033813}, 'r1_roller_rpm': 0.0, 'r1_shooting_altitude': 0.963638554763794}, {'time': 383, 'ball_pos': {'x': 0.019917376339435577, 'y': 6.671879768371582, 'z': 1.1482540369033813}, 'r1_roller_rpm': 0.0, 'r1_shooting_altitude': 0.963638554763794}, {'time': 384, 'ball_pos': {'x': 0.019917376339435577, 'y': 6.671879768371582, 'z': 1.1482540369033813}, 'r1_roller_rpm': 0.0, 'r1_shooting_altitude': 0.963638554763794}, {'time': 385, 'ball_pos': {'x': 0.019917376339435577, 'y': 6.671879768371582, 'z': 1.1482540369033813}, 'r1_roller_rpm': 0.0, 'r1_shooting_altitude': 0.963638554763794}, {'time': 386, 'ball_pos': {'x': 0.019917376339435577, 'y': 6.671879768371582, 'z': 1.1482540369033813}, 'r1_roller_rpm': 0.0, 'r1_shooting_altitude': 0.963638554763794}, {'time': 387, 'ball_pos': {'x': 0.019917376339435577, 'y': 6.671879768371582, 'z': 1.1482540369033813}, 'r1_roller_rpm': 0.0, 'r1_shooting_altitude': 0.963638554763794}, {'time': 388, 'ball_pos': {'x': 0.019917376339435577, 'y': 6.671879768371582, 'z': 1.1482540369033813}, 'r1_roller_rpm': 0.0, 'r1_shooting_altitude': 0.963638554763794}, {'time': 389, 'ball_pos': {'x': 0.019917376339435577, 'y': 6.671879768371582, 'z': 1.1482540369033813}, 'r1_roller_rpm': 0.0, 'r1_shooting_altitude': 0.963638554763794}, {'time': 390, 'ball_pos': {'x': 0.019917376339435577, 'y': 6.671879768371582, 'z': 1.1482540369033813}, 'r1_roller_rpm': 0.0, 'r1_shooting_altitude': 0.963638554763794}, {'time': 391, 'ball_pos': {'x': 0.019917376339435577, 'y': 6.671879768371582, 'z': 1.1482540369033813}, 'r1_roller_rpm': 0.0, 'r1_shooting_altitude': 0.963638554763794}, {'time': 392, 'ball_pos': {'x': 0.019917376339435577, 'y': 6.671879768371582, 'z': 1.1482540369033813}, 'r1_roller_rpm': 0.0, 'r1_shooting_altitude': 0.963638554763794}, {'time': 393, 'ball_pos': {'x': 0.019917376339435577, 'y': 6.671879768371582, 'z': 1.1482540369033813}, 'r1_roller_rpm': 0.0, 'r1_shooting_altitude': 0.963638554763794}, {'time': 394, 'ball_pos': {'x': 0.019917376339435577, 'y': 6.671879768371582, 'z': 1.1482540369033813}, 'r1_roller_rpm': 0.0, 'r1_shooting_altitude': 0.963638554763794}, {'time': 395, 'ball_pos': {'x': 0.019917376339435577, 'y': 6.671879768371582, 'z': 1.1482540369033813}, 'r1_roller_rpm': 0.0, 'r1_shooting_altitude': 0.963638554763794}, {'time': 396, 'ball_pos': {'x': 0.019917376339435577, 'y': 6.671879768371582, 'z': 1.1482540369033813}, 'r1_roller_rpm': 0.0, 'r1_shooting_altitude': 0.963638554763794}, {'time': 397, 'ball_pos': {'x': 0.019917376339435577, 'y': 6.671879768371582, 'z': 1.1482540369033813}, 'r1_roller_rpm': 0.0, 'r1_shooting_altitude': 0.963638554763794}, {'time': 398, 'ball_pos': {'x': 0.019917376339435577, 'y': 6.671879768371582, 'z': 1.1482540369033813}, 'r1_roller_rpm': 0.0, 'r1_shooting_altitude': 0.963638554763794}, {'time': 399, 'ball_pos': {'x': 0.019917376339435577, 'y': 6.671879768371582, 'z': 1.1482540369033813}, 'r1_roller_rpm': 0.0, 'r1_shooting_altitude': 0.963638554763794}]\n",
            "First element in the list: {'time': 0, 'ball_pos': {'x': 1.0050151348114014, 'y': 4.808112621307373, 'z': 1.3803216218948364}, 'r1_roller_rpm': 0.0, 'r1_shooting_altitude': 0.5945397722244263}\n"
          ]
        },
        {
          "output_type": "error",
          "ename": "KeyboardInterrupt",
          "evalue": "",
          "traceback": [
            "\u001b[0;31m---------------------------------------------------------------------------\u001b[0m",
            "\u001b[0;31mKeyboardInterrupt\u001b[0m                         Traceback (most recent call last)",
            "\u001b[0;32m<ipython-input-5-657d716541a4>\u001b[0m in \u001b[0;36m<cell line: 0>\u001b[0;34m()\u001b[0m\n\u001b[1;32m     68\u001b[0m             \u001b[0mrunning\u001b[0m \u001b[0;34m=\u001b[0m \u001b[0;32mFalse\u001b[0m\u001b[0;34m\u001b[0m\u001b[0;34m\u001b[0m\u001b[0m\n\u001b[1;32m     69\u001b[0m \u001b[0;34m\u001b[0m\u001b[0m\n\u001b[0;32m---> 70\u001b[0;31m     \u001b[0mpygame\u001b[0m\u001b[0;34m.\u001b[0m\u001b[0mdisplay\u001b[0m\u001b[0;34m.\u001b[0m\u001b[0mflip\u001b[0m\u001b[0;34m(\u001b[0m\u001b[0;34m)\u001b[0m\u001b[0;34m\u001b[0m\u001b[0;34m\u001b[0m\u001b[0m\n\u001b[0m\u001b[1;32m     71\u001b[0m \u001b[0;34m\u001b[0m\u001b[0m\n\u001b[1;32m     72\u001b[0m \u001b[0;31m# Quit Pygame\u001b[0m\u001b[0;34m\u001b[0m\u001b[0;34m\u001b[0m\u001b[0m\n",
            "\u001b[0;31mKeyboardInterrupt\u001b[0m: "
          ]
        }
      ]
    },
    {
      "cell_type": "markdown",
      "metadata": {
        "id": "Od33yl6oFhnV"
      },
      "source": []
    },
    {
      "cell_type": "code",
      "metadata": {
        "id": "KOs0jdx1FhwB",
        "colab": {
          "base_uri": "https://localhost:8080/"
        },
        "outputId": "8aeff3c2-a04a-4909-a018-ac36fe0aab72"
      },
      "source": [
        "import os\n",
        "print(os.getcwd())\n"
      ],
      "execution_count": 2,
      "outputs": [
        {
          "output_type": "stream",
          "name": "stdout",
          "text": [
            "/content\n"
          ]
        }
      ]
    }
  ]
}